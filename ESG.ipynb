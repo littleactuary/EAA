{
  "cells": [
    {
      "cell_type": "markdown",
      "metadata": {
        "id": "view-in-github",
        "colab_type": "text"
      },
      "source": [
        "<a href=\"https://colab.research.google.com/github/littleactuary/EAA/blob/main/ESG.ipynb\" target=\"_parent\"><img src=\"https://colab.research.google.com/assets/colab-badge.svg\" alt=\"Open In Colab\"/></a>"
      ]
    },
    {
      "cell_type": "markdown",
      "metadata": {
        "id": "XFSYlqI7jSvE"
      },
      "source": [
        "### Library"
      ]
    },
    {
      "cell_type": "code",
      "execution_count": 1,
      "metadata": {
        "id": "fDA9p66vjQPo"
      },
      "outputs": [],
      "source": [
        "import yfinance as yf\n",
        "import numpy as np\n",
        "import pandas as pd\n",
        "import requests\n",
        "from bs4 import BeautifulSoup\n",
        "from datetime import datetime, timedelta\n",
        "from scipy.interpolate import interp1d, CubicSpline\n"
      ]
    },
    {
      "cell_type": "markdown",
      "metadata": {
        "id": "NI3RJE_9dkZw"
      },
      "source": [
        "### Chọn stock"
      ]
    },
    {
      "cell_type": "code",
      "execution_count": 2,
      "metadata": {
        "colab": {
          "base_uri": "https://localhost:8080/"
        },
        "id": "CywAiIIcjok8",
        "outputId": "609d62fc-0e50-4e0e-f7fd-fcdf95fdca95"
      },
      "outputs": [
        {
          "output_type": "stream",
          "name": "stderr",
          "text": [
            "\r[*********************100%%**********************]  1 of 1 completed\n"
          ]
        }
      ],
      "source": [
        "stock_symbol = 'AAPL' #apple\n",
        "data = yf.download(stock_symbol, start='2020-01-01', end='2023-12-31', interval='1mo')\n",
        "data = data['Adj Close']"
      ]
    },
    {
      "cell_type": "markdown",
      "metadata": {
        "id": "ylwtSvj8ZwDD"
      },
      "source": [
        "## Hàm tạo giá của 1000 kịch bản"
      ]
    },
    {
      "cell_type": "code",
      "execution_count": 5,
      "metadata": {
        "id": "o5dCyr7KXLze"
      },
      "outputs": [],
      "source": [
        "\n",
        "def generate_price_scenarios(data, n_scenarios, n_months,formatted_dates,scenario_names):\n",
        "  # Tính tỷ suất sinh lợi hàng tháng và độ biến động (volatility của price)\n",
        "  returns = data.pct_change().dropna()\n",
        "  volatility = returns.std()\n",
        "  # Tính toán drift\n",
        "  drift = returns.mean() - 0.5 * volatility ** 2\n",
        "  # Make scenario df\n",
        "  scenarios = np.zeros((n_scenarios, n_months))\n",
        "  scenarios[:, 0] = initial_price\n",
        "\n",
        "  for t in range(1, n_months):\n",
        "      z = np.random.standard_normal(n_scenarios)\n",
        "      scenarios[:, t] = scenarios[:, t - 1] * np.exp(drift + volatility * z)\n",
        "\n",
        "  scenario_prices_df = pd.DataFrame(scenarios, columns=formatted_dates, index=scenario_names)\n",
        "  return scenario_prices_df\n",
        "\n",
        "\n"
      ]
    },
    {
      "cell_type": "markdown",
      "metadata": {
        "id": "G12A8gUSVwUO"
      },
      "source": [
        "## Hàm tạo 1 yield curve chung cho 1000 kịch bản"
      ]
    },
    {
      "cell_type": "code",
      "execution_count": 6,
      "metadata": {
        "id": "r7tORNukYs4g"
      },
      "outputs": [],
      "source": [
        "def generate_discount_rate_scenarios1(time,yield_percent, n_months,formatted_dates,scenario_names):\n",
        "  # Thông tin về thời gian\n",
        "  # Chuyển đổi yields thành discount factors\n",
        "  discount_factors = np.exp(-(yield_percent / 100) * time)\n",
        "\n",
        "  # Interpolation\n",
        "  # interp_func = interp1d(time, discount_factors, kind='linear', fill_value=\"extrapolate\")\n",
        "  interp_func = interp1d(time, discount_factors, kind='cubic', fill_value=\"extrapolate\")\n",
        "  times_in_years = [(date - dates[0]).days / 365.25 for date in dates]\n",
        "\n",
        "  # Interpolate các discount factors cho mỗi tháng\n",
        "  interpolated_discount_factors = interp_func(times_in_years)\n",
        "  interpolated_discount_factors[0] = 1.0  # Đặt cột đầu tiên là 1\n",
        "\n",
        "  # Tạp DataFrame\n",
        "  discount_factors_df1 = pd.DataFrame(np.tile(interpolated_discount_factors, (1000, 1)),index=scenario_names, columns=formatted_dates)\n",
        "  return discount_factors_df1\n",
        "\n"
      ]
    },
    {
      "cell_type": "markdown",
      "metadata": {
        "id": "bikONlfIbMx2"
      },
      "source": [
        "## Hàm tạo 1000 đường yield curve cho 1000 kịch bản"
      ]
    },
    {
      "cell_type": "code",
      "execution_count": 10,
      "metadata": {
        "id": "ToQVd7v8QA1i"
      },
      "outputs": [],
      "source": [
        "def vasicek_model(r0, alpha, b, sigma, n_scenarios, T=1, dt=1/12 ):\n",
        "    t = np.linspace(0, T, int(T/dt)+1)  # Tạo các mốc thời gian từ 0 đến T với bước dt\n",
        "    rates = np.zeros((n_scenarios, t.shape[0]))  # Tạo mảng để lưu trữ các lãi suất mô phỏng\n",
        "    rates[:, 0] = r0  # Gán lãi suất ban đầu cho tất cả các kịch bản\n",
        "    for i in range(1, t.shape[0]):\n",
        "        dt = t[i] - t[i-1]  # Tính bước thời gian\n",
        "        dW = np.random.standard_normal(size=n_scenarios) * np.sqrt(dt)  # Tạo nhiễu ngẫu nhiên\n",
        "        rates[:, i] = rates[:, i-1] + alpha * (b - rates[:, i-1]) * dt + sigma * dW  # Tính lãi suất tại thời điểm tiếp theo\n",
        "    return rates, t\n",
        "\n",
        "\n",
        "def generate_discount_rate_scenarios2(r0, alpha, b, sigma,dates,n_scenarios,formatted_dates,scenario_names, T=1, dt=1/12):\n",
        "  # simulate yield_curves\n",
        "  simulated_yield_curves, t = vasicek_model(r0, alpha, b, sigma,n_scenarios)\n",
        "\n",
        "  # yield curve to discount factor\n",
        "  discount_factors = np.exp(-simulated_yield_curves * np.reshape(t, (1, -1)))\n",
        "\n",
        "  # Thêm tháng đầu tiền là 1%\n",
        "  discount_factors[:, 0] = 1.0\n",
        "\n",
        "  # Dataframe\n",
        "  discount_factors_df2 = pd.DataFrame(discount_factors,index=scenario_names, columns=formatted_dates)\n",
        "  return discount_factors_df2\n",
        "\n"
      ]
    },
    {
      "cell_type": "markdown",
      "metadata": {
        "id": "reS8bYwGd3ix"
      },
      "source": [
        "# Main"
      ]
    },
    {
      "cell_type": "code",
      "execution_count": 17,
      "metadata": {
        "id": "4Pi7Ur5Xd_OG"
      },
      "outputs": [],
      "source": [
        "\n",
        "\n",
        "np.random.seed(42)\n",
        "\n",
        "# Số lượng scenario và số tháng dự báo\n",
        "n_scenarios = 1000\n",
        "n_months = 13\n",
        "initial_price = 100\n",
        "\n",
        "# Cài đặt thời gian\n",
        "dates = pd.date_range(start='2024-06-30', periods=13, freq='M')\n",
        "formatted_dates = [date.strftime('%d-%m-%y') for date in dates]\n",
        "\n",
        "# Scnario name\n",
        "scenario_names = [f'Scenario {i+1}' for i in range(n_scenarios)]\n",
        "\n",
        "\n",
        "# Yield curve ( Có thể thành input)\n",
        "time = np.array([1/12, 2/12, 3/12, 4/12, 6/12, 1, 2, 3, 5, 7, 10, 20, 30])\n",
        "yield_percent = np.array([5.366, 5.359, 5.363, 5.383, 5.332, 5.124, 4.749, 4.546, 4.369, 4.369, 4.392, 4.655, 4.554])\n",
        "\n",
        "\n",
        "# Các par cho model Vasicek\n",
        "alpha = 0.1\n",
        "b = 0.03\n",
        "sigma = 0.02\n",
        "r0 = 0.03  # Lãi suất ban đầu\n",
        "\n",
        "def generate_scenario():\n",
        "  scenarios_price_df = generate_price_scenarios(data, n_scenarios, n_months,formatted_dates,scenario_names)\n",
        "  discount_factors_df1 = generate_discount_rate_scenarios1(time,yield_percent, n_months,formatted_dates,scenario_names)\n",
        "  discount_factors_df2 = generate_discount_rate_scenarios2(r0, alpha, b, sigma,dates,n_scenarios,formatted_dates,scenario_names, T=1, dt=1/12)\n",
        "\n",
        "  with pd.ExcelWriter('economic_scenarios.xlsx') as writer:\n",
        "    scenarios_price_df.to_excel(writer, sheet_name='Indice act_hors div',startrow=5)\n",
        "    discount_factors_df1.to_excel(writer, sheet_name='Déflateurs1',startrow=5)\n",
        "    discount_factors_df2.to_excel(writer, sheet_name='Déflateurs2',startrow=5)\n",
        "\n",
        "\n",
        "  return 'economic_scenarios.xlsx'\n"
      ]
    },
    {
      "cell_type": "code",
      "execution_count": 18,
      "metadata": {
        "colab": {
          "base_uri": "https://localhost:8080/",
          "height": 35
        },
        "id": "jGMx9FwWf4ok",
        "outputId": "42ba4d4c-a0d1-4cc3-e226-749a40b5a29a"
      },
      "outputs": [
        {
          "output_type": "execute_result",
          "data": {
            "text/plain": [
              "'economic_scenarios.xlsx'"
            ],
            "application/vnd.google.colaboratory.intrinsic+json": {
              "type": "string"
            }
          },
          "metadata": {},
          "execution_count": 18
        }
      ],
      "source": [
        "generate_scenario()"
      ]
    },
    {
      "cell_type": "markdown",
      "metadata": {
        "id": "7wCXygFkSc9u"
      },
      "source": [
        "# Test"
      ]
    },
    {
      "cell_type": "code",
      "execution_count": 19,
      "metadata": {
        "id": "vgXnTOIkScok"
      },
      "outputs": [],
      "source": [
        "import pandas as pd\n",
        "class actions():\n",
        "    def __init__(self,address='test.xlsx') -> None:  # Khai báo\n",
        "        df1=pd.read_excel(address,sheet_name='Indice act_hors div',skiprows=5,index_col='Unnamed: 0')\n",
        "        # df2=pd.read_excel(address,sheet_name='Tx_div',skiprows=5,index_col='Unnamed: 0')\n",
        "        df3=pd.read_excel(address,sheet_name='Déflateurs1',skiprows=5,index_col='Unnamed: 0')\n",
        "\n",
        "\n",
        "\n",
        "        df3.columns=df1.columns\n",
        "\n",
        "        indice_capitalisant = pd.DataFrame(columns=df1.columns,index=df1.index)\n",
        "        indice_capitalisant[indice_capitalisant.columns[0]]=df1[df1.columns[0]]\n",
        "        for i in range(1,df1.shape[1]):\n",
        "            indice_capitalisant[df1.columns[i]] = indice_capitalisant[df1.columns[i-1]]*((df1[df1.columns[i]]/df1[df1.columns[i-1]])+((1)**(1/12)-1))\n",
        "\n",
        "        #need\n",
        "        self.indice_capitalisant_deflate=indice_capitalisant[indice_capitalisant.columns]* df3\n",
        "        self.indice_capitalisant = indice_capitalisant\n",
        "        self.martingale()\n",
        "\n",
        "\n",
        "\n",
        "    def martingale(self,eurreur=0.02,valid_number=10**(-5)):\n",
        "        # self.res=pd.DataFrame(self.indice_capitalisant_deflate.mean(),columns=['moyenne(VM actualisée)'])\n",
        "        result= pd.DataFrame([self.indice_capitalisant_deflate.mean().values],index=['moyenne(VM actualisée)'])\n",
        "        result.loc['VM initiale']=100\n",
        "        result.loc['borne sup +2%']=result.loc['VM initiale']*(1+eurreur)\n",
        "        result.loc['borne inf -2%']=result.loc['VM initiale']*(1-eurreur)\n",
        "        result.loc['ecart relatif']=abs((result.loc['moyenne(VM actualisée)']-result.loc['VM initiale'])/result.loc['VM initiale'])\n",
        "\n",
        "\n",
        "\n",
        "        self.ecart_relatif_moyen=float(result.loc['ecart relatif'].mean())\n",
        "        self.ecart_relatif_moyen2=float(((result.loc['ecart relatif']**2).sum()/len(result.loc['ecart relatif']))**0.5)\n",
        "        result.loc['taux']=result.loc['moyenne(VM actualisée)']/result.loc['VM initiale']\n",
        "\n",
        "        #check test\n",
        "        self.valid=True if self.ecart_relatif_moyen<valid_number else False\n",
        "        self.result=result\n",
        "\n",
        "\n"
      ]
    },
    {
      "cell_type": "code",
      "execution_count": 20,
      "metadata": {
        "id": "ziMyJnGQTJ3I"
      },
      "outputs": [],
      "source": [
        "a = actions(generate_scenario())"
      ]
    },
    {
      "cell_type": "code",
      "execution_count": 21,
      "metadata": {
        "colab": {
          "base_uri": "https://localhost:8080/",
          "height": 310
        },
        "id": "_ZMzJrh5TUcp",
        "outputId": "4e6f6ff5-d0db-412d-97b8-f36878e64031"
      },
      "outputs": [
        {
          "output_type": "execute_result",
          "data": {
            "text/plain": [
              "                           0           1           2           3           4   \\\n",
              "moyenne(VM actualisée)  100.0  101.715671  103.878261  106.350710  108.258599   \n",
              "VM initiale             100.0  100.000000  100.000000  100.000000  100.000000   \n",
              "borne sup +2%           102.0  102.000000  102.000000  102.000000  102.000000   \n",
              "borne inf -2%            98.0   98.000000   98.000000   98.000000   98.000000   \n",
              "ecart relatif             0.0    0.017157    0.038783    0.063507    0.082586   \n",
              "taux                      1.0    1.017157    1.038783    1.063507    1.082586   \n",
              "\n",
              "                                5           6           7           8   \\\n",
              "moyenne(VM actualisée)  109.584335  111.732009  114.212789  116.294790   \n",
              "VM initiale             100.000000  100.000000  100.000000  100.000000   \n",
              "borne sup +2%           102.000000  102.000000  102.000000  102.000000   \n",
              "borne inf -2%            98.000000   98.000000   98.000000   98.000000   \n",
              "ecart relatif             0.095843    0.117320    0.142128    0.162948   \n",
              "taux                      1.095843    1.117320    1.142128    1.162948   \n",
              "\n",
              "                                9           10          11          12  \n",
              "moyenne(VM actualisée)  118.110087  120.892420  122.803770  124.793632  \n",
              "VM initiale             100.000000  100.000000  100.000000  100.000000  \n",
              "borne sup +2%           102.000000  102.000000  102.000000  102.000000  \n",
              "borne inf -2%            98.000000   98.000000   98.000000   98.000000  \n",
              "ecart relatif             0.181101    0.208924    0.228038    0.247936  \n",
              "taux                      1.181101    1.208924    1.228038    1.247936  "
            ],
            "text/html": [
              "\n",
              "  <div id=\"df-aa8b965f-df43-473d-8007-55f110858d23\" class=\"colab-df-container\">\n",
              "    <div>\n",
              "<style scoped>\n",
              "    .dataframe tbody tr th:only-of-type {\n",
              "        vertical-align: middle;\n",
              "    }\n",
              "\n",
              "    .dataframe tbody tr th {\n",
              "        vertical-align: top;\n",
              "    }\n",
              "\n",
              "    .dataframe thead th {\n",
              "        text-align: right;\n",
              "    }\n",
              "</style>\n",
              "<table border=\"1\" class=\"dataframe\">\n",
              "  <thead>\n",
              "    <tr style=\"text-align: right;\">\n",
              "      <th></th>\n",
              "      <th>0</th>\n",
              "      <th>1</th>\n",
              "      <th>2</th>\n",
              "      <th>3</th>\n",
              "      <th>4</th>\n",
              "      <th>5</th>\n",
              "      <th>6</th>\n",
              "      <th>7</th>\n",
              "      <th>8</th>\n",
              "      <th>9</th>\n",
              "      <th>10</th>\n",
              "      <th>11</th>\n",
              "      <th>12</th>\n",
              "    </tr>\n",
              "  </thead>\n",
              "  <tbody>\n",
              "    <tr>\n",
              "      <th>moyenne(VM actualisée)</th>\n",
              "      <td>100.0</td>\n",
              "      <td>101.715671</td>\n",
              "      <td>103.878261</td>\n",
              "      <td>106.350710</td>\n",
              "      <td>108.258599</td>\n",
              "      <td>109.584335</td>\n",
              "      <td>111.732009</td>\n",
              "      <td>114.212789</td>\n",
              "      <td>116.294790</td>\n",
              "      <td>118.110087</td>\n",
              "      <td>120.892420</td>\n",
              "      <td>122.803770</td>\n",
              "      <td>124.793632</td>\n",
              "    </tr>\n",
              "    <tr>\n",
              "      <th>VM initiale</th>\n",
              "      <td>100.0</td>\n",
              "      <td>100.000000</td>\n",
              "      <td>100.000000</td>\n",
              "      <td>100.000000</td>\n",
              "      <td>100.000000</td>\n",
              "      <td>100.000000</td>\n",
              "      <td>100.000000</td>\n",
              "      <td>100.000000</td>\n",
              "      <td>100.000000</td>\n",
              "      <td>100.000000</td>\n",
              "      <td>100.000000</td>\n",
              "      <td>100.000000</td>\n",
              "      <td>100.000000</td>\n",
              "    </tr>\n",
              "    <tr>\n",
              "      <th>borne sup +2%</th>\n",
              "      <td>102.0</td>\n",
              "      <td>102.000000</td>\n",
              "      <td>102.000000</td>\n",
              "      <td>102.000000</td>\n",
              "      <td>102.000000</td>\n",
              "      <td>102.000000</td>\n",
              "      <td>102.000000</td>\n",
              "      <td>102.000000</td>\n",
              "      <td>102.000000</td>\n",
              "      <td>102.000000</td>\n",
              "      <td>102.000000</td>\n",
              "      <td>102.000000</td>\n",
              "      <td>102.000000</td>\n",
              "    </tr>\n",
              "    <tr>\n",
              "      <th>borne inf -2%</th>\n",
              "      <td>98.0</td>\n",
              "      <td>98.000000</td>\n",
              "      <td>98.000000</td>\n",
              "      <td>98.000000</td>\n",
              "      <td>98.000000</td>\n",
              "      <td>98.000000</td>\n",
              "      <td>98.000000</td>\n",
              "      <td>98.000000</td>\n",
              "      <td>98.000000</td>\n",
              "      <td>98.000000</td>\n",
              "      <td>98.000000</td>\n",
              "      <td>98.000000</td>\n",
              "      <td>98.000000</td>\n",
              "    </tr>\n",
              "    <tr>\n",
              "      <th>ecart relatif</th>\n",
              "      <td>0.0</td>\n",
              "      <td>0.017157</td>\n",
              "      <td>0.038783</td>\n",
              "      <td>0.063507</td>\n",
              "      <td>0.082586</td>\n",
              "      <td>0.095843</td>\n",
              "      <td>0.117320</td>\n",
              "      <td>0.142128</td>\n",
              "      <td>0.162948</td>\n",
              "      <td>0.181101</td>\n",
              "      <td>0.208924</td>\n",
              "      <td>0.228038</td>\n",
              "      <td>0.247936</td>\n",
              "    </tr>\n",
              "    <tr>\n",
              "      <th>taux</th>\n",
              "      <td>1.0</td>\n",
              "      <td>1.017157</td>\n",
              "      <td>1.038783</td>\n",
              "      <td>1.063507</td>\n",
              "      <td>1.082586</td>\n",
              "      <td>1.095843</td>\n",
              "      <td>1.117320</td>\n",
              "      <td>1.142128</td>\n",
              "      <td>1.162948</td>\n",
              "      <td>1.181101</td>\n",
              "      <td>1.208924</td>\n",
              "      <td>1.228038</td>\n",
              "      <td>1.247936</td>\n",
              "    </tr>\n",
              "  </tbody>\n",
              "</table>\n",
              "</div>\n",
              "    <div class=\"colab-df-buttons\">\n",
              "\n",
              "  <div class=\"colab-df-container\">\n",
              "    <button class=\"colab-df-convert\" onclick=\"convertToInteractive('df-aa8b965f-df43-473d-8007-55f110858d23')\"\n",
              "            title=\"Convert this dataframe to an interactive table.\"\n",
              "            style=\"display:none;\">\n",
              "\n",
              "  <svg xmlns=\"http://www.w3.org/2000/svg\" height=\"24px\" viewBox=\"0 -960 960 960\">\n",
              "    <path d=\"M120-120v-720h720v720H120Zm60-500h600v-160H180v160Zm220 220h160v-160H400v160Zm0 220h160v-160H400v160ZM180-400h160v-160H180v160Zm440 0h160v-160H620v160ZM180-180h160v-160H180v160Zm440 0h160v-160H620v160Z\"/>\n",
              "  </svg>\n",
              "    </button>\n",
              "\n",
              "  <style>\n",
              "    .colab-df-container {\n",
              "      display:flex;\n",
              "      gap: 12px;\n",
              "    }\n",
              "\n",
              "    .colab-df-convert {\n",
              "      background-color: #E8F0FE;\n",
              "      border: none;\n",
              "      border-radius: 50%;\n",
              "      cursor: pointer;\n",
              "      display: none;\n",
              "      fill: #1967D2;\n",
              "      height: 32px;\n",
              "      padding: 0 0 0 0;\n",
              "      width: 32px;\n",
              "    }\n",
              "\n",
              "    .colab-df-convert:hover {\n",
              "      background-color: #E2EBFA;\n",
              "      box-shadow: 0px 1px 2px rgba(60, 64, 67, 0.3), 0px 1px 3px 1px rgba(60, 64, 67, 0.15);\n",
              "      fill: #174EA6;\n",
              "    }\n",
              "\n",
              "    .colab-df-buttons div {\n",
              "      margin-bottom: 4px;\n",
              "    }\n",
              "\n",
              "    [theme=dark] .colab-df-convert {\n",
              "      background-color: #3B4455;\n",
              "      fill: #D2E3FC;\n",
              "    }\n",
              "\n",
              "    [theme=dark] .colab-df-convert:hover {\n",
              "      background-color: #434B5C;\n",
              "      box-shadow: 0px 1px 3px 1px rgba(0, 0, 0, 0.15);\n",
              "      filter: drop-shadow(0px 1px 2px rgba(0, 0, 0, 0.3));\n",
              "      fill: #FFFFFF;\n",
              "    }\n",
              "  </style>\n",
              "\n",
              "    <script>\n",
              "      const buttonEl =\n",
              "        document.querySelector('#df-aa8b965f-df43-473d-8007-55f110858d23 button.colab-df-convert');\n",
              "      buttonEl.style.display =\n",
              "        google.colab.kernel.accessAllowed ? 'block' : 'none';\n",
              "\n",
              "      async function convertToInteractive(key) {\n",
              "        const element = document.querySelector('#df-aa8b965f-df43-473d-8007-55f110858d23');\n",
              "        const dataTable =\n",
              "          await google.colab.kernel.invokeFunction('convertToInteractive',\n",
              "                                                    [key], {});\n",
              "        if (!dataTable) return;\n",
              "\n",
              "        const docLinkHtml = 'Like what you see? Visit the ' +\n",
              "          '<a target=\"_blank\" href=https://colab.research.google.com/notebooks/data_table.ipynb>data table notebook</a>'\n",
              "          + ' to learn more about interactive tables.';\n",
              "        element.innerHTML = '';\n",
              "        dataTable['output_type'] = 'display_data';\n",
              "        await google.colab.output.renderOutput(dataTable, element);\n",
              "        const docLink = document.createElement('div');\n",
              "        docLink.innerHTML = docLinkHtml;\n",
              "        element.appendChild(docLink);\n",
              "      }\n",
              "    </script>\n",
              "  </div>\n",
              "\n",
              "\n",
              "<div id=\"df-171fee35-1649-43db-82db-afc51df97dba\">\n",
              "  <button class=\"colab-df-quickchart\" onclick=\"quickchart('df-171fee35-1649-43db-82db-afc51df97dba')\"\n",
              "            title=\"Suggest charts\"\n",
              "            style=\"display:none;\">\n",
              "\n",
              "<svg xmlns=\"http://www.w3.org/2000/svg\" height=\"24px\"viewBox=\"0 0 24 24\"\n",
              "     width=\"24px\">\n",
              "    <g>\n",
              "        <path d=\"M19 3H5c-1.1 0-2 .9-2 2v14c0 1.1.9 2 2 2h14c1.1 0 2-.9 2-2V5c0-1.1-.9-2-2-2zM9 17H7v-7h2v7zm4 0h-2V7h2v10zm4 0h-2v-4h2v4z\"/>\n",
              "    </g>\n",
              "</svg>\n",
              "  </button>\n",
              "\n",
              "<style>\n",
              "  .colab-df-quickchart {\n",
              "      --bg-color: #E8F0FE;\n",
              "      --fill-color: #1967D2;\n",
              "      --hover-bg-color: #E2EBFA;\n",
              "      --hover-fill-color: #174EA6;\n",
              "      --disabled-fill-color: #AAA;\n",
              "      --disabled-bg-color: #DDD;\n",
              "  }\n",
              "\n",
              "  [theme=dark] .colab-df-quickchart {\n",
              "      --bg-color: #3B4455;\n",
              "      --fill-color: #D2E3FC;\n",
              "      --hover-bg-color: #434B5C;\n",
              "      --hover-fill-color: #FFFFFF;\n",
              "      --disabled-bg-color: #3B4455;\n",
              "      --disabled-fill-color: #666;\n",
              "  }\n",
              "\n",
              "  .colab-df-quickchart {\n",
              "    background-color: var(--bg-color);\n",
              "    border: none;\n",
              "    border-radius: 50%;\n",
              "    cursor: pointer;\n",
              "    display: none;\n",
              "    fill: var(--fill-color);\n",
              "    height: 32px;\n",
              "    padding: 0;\n",
              "    width: 32px;\n",
              "  }\n",
              "\n",
              "  .colab-df-quickchart:hover {\n",
              "    background-color: var(--hover-bg-color);\n",
              "    box-shadow: 0 1px 2px rgba(60, 64, 67, 0.3), 0 1px 3px 1px rgba(60, 64, 67, 0.15);\n",
              "    fill: var(--button-hover-fill-color);\n",
              "  }\n",
              "\n",
              "  .colab-df-quickchart-complete:disabled,\n",
              "  .colab-df-quickchart-complete:disabled:hover {\n",
              "    background-color: var(--disabled-bg-color);\n",
              "    fill: var(--disabled-fill-color);\n",
              "    box-shadow: none;\n",
              "  }\n",
              "\n",
              "  .colab-df-spinner {\n",
              "    border: 2px solid var(--fill-color);\n",
              "    border-color: transparent;\n",
              "    border-bottom-color: var(--fill-color);\n",
              "    animation:\n",
              "      spin 1s steps(1) infinite;\n",
              "  }\n",
              "\n",
              "  @keyframes spin {\n",
              "    0% {\n",
              "      border-color: transparent;\n",
              "      border-bottom-color: var(--fill-color);\n",
              "      border-left-color: var(--fill-color);\n",
              "    }\n",
              "    20% {\n",
              "      border-color: transparent;\n",
              "      border-left-color: var(--fill-color);\n",
              "      border-top-color: var(--fill-color);\n",
              "    }\n",
              "    30% {\n",
              "      border-color: transparent;\n",
              "      border-left-color: var(--fill-color);\n",
              "      border-top-color: var(--fill-color);\n",
              "      border-right-color: var(--fill-color);\n",
              "    }\n",
              "    40% {\n",
              "      border-color: transparent;\n",
              "      border-right-color: var(--fill-color);\n",
              "      border-top-color: var(--fill-color);\n",
              "    }\n",
              "    60% {\n",
              "      border-color: transparent;\n",
              "      border-right-color: var(--fill-color);\n",
              "    }\n",
              "    80% {\n",
              "      border-color: transparent;\n",
              "      border-right-color: var(--fill-color);\n",
              "      border-bottom-color: var(--fill-color);\n",
              "    }\n",
              "    90% {\n",
              "      border-color: transparent;\n",
              "      border-bottom-color: var(--fill-color);\n",
              "    }\n",
              "  }\n",
              "</style>\n",
              "\n",
              "  <script>\n",
              "    async function quickchart(key) {\n",
              "      const quickchartButtonEl =\n",
              "        document.querySelector('#' + key + ' button');\n",
              "      quickchartButtonEl.disabled = true;  // To prevent multiple clicks.\n",
              "      quickchartButtonEl.classList.add('colab-df-spinner');\n",
              "      try {\n",
              "        const charts = await google.colab.kernel.invokeFunction(\n",
              "            'suggestCharts', [key], {});\n",
              "      } catch (error) {\n",
              "        console.error('Error during call to suggestCharts:', error);\n",
              "      }\n",
              "      quickchartButtonEl.classList.remove('colab-df-spinner');\n",
              "      quickchartButtonEl.classList.add('colab-df-quickchart-complete');\n",
              "    }\n",
              "    (() => {\n",
              "      let quickchartButtonEl =\n",
              "        document.querySelector('#df-171fee35-1649-43db-82db-afc51df97dba button');\n",
              "      quickchartButtonEl.style.display =\n",
              "        google.colab.kernel.accessAllowed ? 'block' : 'none';\n",
              "    })();\n",
              "  </script>\n",
              "</div>\n",
              "\n",
              "    </div>\n",
              "  </div>\n"
            ],
            "application/vnd.google.colaboratory.intrinsic+json": {
              "type": "dataframe",
              "summary": "{\n  \"name\": \"a\",\n  \"rows\": 6,\n  \"fields\": [\n    {\n      \"column\": 0,\n      \"properties\": {\n        \"dtype\": \"number\",\n        \"std\": 51.39811929114398,\n        \"min\": 0.0,\n        \"max\": 102.0,\n        \"num_unique_values\": 5,\n        \"samples\": [\n          102.0,\n          1.0,\n          98.0\n        ],\n        \"semantic_type\": \"\",\n        \"description\": \"\"\n      }\n    },\n    {\n      \"column\": 1,\n      \"properties\": {\n        \"dtype\": \"number\",\n        \"std\": 51.61496091320179,\n        \"min\": 0.017156706938550884,\n        \"max\": 102.0,\n        \"num_unique_values\": 6,\n        \"samples\": [\n          101.71567069385509,\n          100.0,\n          1.017156706938551\n        ],\n        \"semantic_type\": \"\",\n        \"description\": \"\"\n      }\n    },\n    {\n      \"column\": 2,\n      \"properties\": {\n        \"dtype\": \"number\",\n        \"std\": 51.900359941594154,\n        \"min\": 0.03878260906835763,\n        \"max\": 103.87826090683576,\n        \"num_unique_values\": 6,\n        \"samples\": [\n          103.87826090683576,\n          100.0,\n          1.0387826090683576\n        ],\n        \"semantic_type\": \"\",\n        \"description\": \"\"\n      }\n    },\n    {\n      \"column\": 3,\n      \"properties\": {\n        \"dtype\": \"number\",\n        \"std\": 52.24288010539135,\n        \"min\": 0.06350709511007083,\n        \"max\": 106.35070951100708,\n        \"num_unique_values\": 6,\n        \"samples\": [\n          106.35070951100708,\n          100.0,\n          1.063507095110071\n        ],\n        \"semantic_type\": \"\",\n        \"description\": \"\"\n      }\n    },\n    {\n      \"column\": 4,\n      \"properties\": {\n        \"dtype\": \"number\",\n        \"std\": 52.51882022020586,\n        \"min\": 0.08258599304442299,\n        \"max\": 108.2585993044423,\n        \"num_unique_values\": 6,\n        \"samples\": [\n          108.2585993044423,\n          100.0,\n          1.082585993044423\n        ],\n        \"semantic_type\": \"\",\n        \"description\": \"\"\n      }\n    },\n    {\n      \"column\": 5,\n      \"properties\": {\n        \"dtype\": \"number\",\n        \"std\": 52.71643616784627,\n        \"min\": 0.09584335115075873,\n        \"max\": 109.58433511507587,\n        \"num_unique_values\": 6,\n        \"samples\": [\n          109.58433511507587,\n          100.0,\n          1.0958433511507588\n        ],\n        \"semantic_type\": \"\",\n        \"description\": \"\"\n      }\n    },\n    {\n      \"column\": 6,\n      \"properties\": {\n        \"dtype\": \"number\",\n        \"std\": 53.04663697014819,\n        \"min\": 0.1173200926091161,\n        \"max\": 111.73200926091161,\n        \"num_unique_values\": 6,\n        \"samples\": [\n          111.73200926091161,\n          100.0,\n          1.117320092609116\n        ],\n        \"semantic_type\": \"\",\n        \"description\": \"\"\n      }\n    },\n    {\n      \"column\": 7,\n      \"properties\": {\n        \"dtype\": \"number\",\n        \"std\": 53.44327850282641,\n        \"min\": 0.14212788558696204,\n        \"max\": 114.2127885586962,\n        \"num_unique_values\": 6,\n        \"samples\": [\n          114.2127885586962,\n          100.0,\n          1.142127885586962\n        ],\n        \"semantic_type\": \"\",\n        \"description\": \"\"\n      }\n    },\n    {\n      \"column\": 8,\n      \"properties\": {\n        \"dtype\": \"number\",\n        \"std\": 53.788507486577906,\n        \"min\": 0.16294790461957817,\n        \"max\": 116.29479046195782,\n        \"num_unique_values\": 6,\n        \"samples\": [\n          116.29479046195782,\n          100.0,\n          1.162947904619578\n        ],\n        \"semantic_type\": \"\",\n        \"description\": \"\"\n      }\n    },\n    {\n      \"column\": 9,\n      \"properties\": {\n        \"dtype\": \"number\",\n        \"std\": 54.09852792712887,\n        \"min\": 0.18110087088324747,\n        \"max\": 118.11008708832475,\n        \"num_unique_values\": 6,\n        \"samples\": [\n          118.11008708832475,\n          100.0,\n          1.1811008708832476\n        ],\n        \"semantic_type\": \"\",\n        \"description\": \"\"\n      }\n    },\n    {\n      \"column\": 10,\n      \"properties\": {\n        \"dtype\": \"number\",\n        \"std\": 54.58966056531195,\n        \"min\": 0.20892419749162328,\n        \"max\": 120.89241974916233,\n        \"num_unique_values\": 6,\n        \"samples\": [\n          120.89241974916233,\n          100.0,\n          1.2089241974916234\n        ],\n        \"semantic_type\": \"\",\n        \"description\": \"\"\n      }\n    },\n    {\n      \"column\": 11,\n      \"properties\": {\n        \"dtype\": \"number\",\n        \"std\": 54.93800730424694,\n        \"min\": 0.22803769657566947,\n        \"max\": 122.80376965756695,\n        \"num_unique_values\": 6,\n        \"samples\": [\n          122.80376965756695,\n          100.0,\n          1.2280376965756694\n        ],\n        \"semantic_type\": \"\",\n        \"description\": \"\"\n      }\n    },\n    {\n      \"column\": 12,\n      \"properties\": {\n        \"dtype\": \"number\",\n        \"std\": 55.30993721541358,\n        \"min\": 0.2479363196502399,\n        \"max\": 124.79363196502399,\n        \"num_unique_values\": 6,\n        \"samples\": [\n          124.79363196502399,\n          100.0,\n          1.24793631965024\n        ],\n        \"semantic_type\": \"\",\n        \"description\": \"\"\n      }\n    }\n  ]\n}"
            }
          },
          "metadata": {},
          "execution_count": 21
        }
      ],
      "source": [
        "a.result"
      ]
    },
    {
      "cell_type": "code",
      "execution_count": null,
      "metadata": {
        "id": "MA0GfZ5YUsnA"
      },
      "outputs": [],
      "source": []
    }
  ],
  "metadata": {
    "colab": {
      "collapsed_sections": [
        "XFSYlqI7jSvE",
        "NI3RJE_9dkZw",
        "ylwtSvj8ZwDD",
        "G12A8gUSVwUO"
      ],
      "provenance": [],
      "include_colab_link": true
    },
    "kernelspec": {
      "display_name": "Python 3",
      "name": "python3"
    },
    "language_info": {
      "name": "python"
    }
  },
  "nbformat": 4,
  "nbformat_minor": 0
}