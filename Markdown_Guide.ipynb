{
  "cells": [
    {
      "cell_type": "markdown",
      "metadata": {
        "id": "view-in-github",
        "colab_type": "text"
      },
      "source": [
        "<a href=\"https://colab.research.google.com/github/littleactuary/EAA/blob/main/Markdown_Guide.ipynb\" target=\"_parent\"><img src=\"https://colab.research.google.com/assets/colab-badge.svg\" alt=\"Open In Colab\"/></a>"
      ]
    },
    {
      "cell_type": "code",
      "source": [
        "import numbers\n",
        "import numpy as np\n",
        "import pandas as pd\n",
        "import plotly.graph_objects as go\n",
        "import plotly.express as px\n",
        "pd.options.plotting.backend = \"plotly\""
      ],
      "metadata": {
        "id": "4HJftnxYkIuP"
      },
      "execution_count": 1,
      "outputs": []
    },
    {
      "cell_type": "markdown",
      "source": [
        "## **Functions**"
      ],
      "metadata": {
        "id": "dN-BsPMpkM3P"
      }
    },
    {
      "cell_type": "code",
      "source": [
        "# chercher par nom (name) dans une liste d'objets \n",
        "# exemple : chercher la loi de rachat d'un model point parmi la liste de toutes les lois de rachats\n",
        "def search(name, mylist):\n",
        "  try : \n",
        "    return [x for x in mylist if x['name'] == name][0]\n",
        "  except:\n",
        "    return 0\n",
        "\n",
        "# interpolation for converting annual data to monthly data\n",
        "# input has to be a annual dataFrame (with one column ?)\n",
        "# type: linear/polynomial/etc with specific order\n",
        "# non utilisé pour l'instant\n",
        "def monthly_interp(input, type='linear', order=2) :\n",
        "  last_row = len(input)\n",
        "  res = input.set_index(np.arange(1, last_row+1, dtype=int)*12).reindex(np.arange(0, last_row*12+1, dtype=int))\n",
        "  res.iloc[0,0]=0\n",
        "  res = res.interpolate(type, order=order).iloc[1:, ]\n",
        "  return res\n",
        "\n",
        "# ecart glissant absolu\n",
        "# ts/tc : taux servi/taux conc de la dernière année, ts_ant/tc_ant : taux servi/taux conc de l'avant-dernière année\n",
        "# à enrichir : donner la possiblité de paraméter la fenêtre de lissage\n",
        "def EGA(ts, ts_ant, tc, tc_ant):\n",
        "  return (ts+ts_ant-tc-tc_ant)/2\n",
        "\n",
        "def perf(x, basis_x, basis_perf):\n",
        "  \"\"\"\n",
        "  x : series of variable\n",
        "  basis_x: 1 if 'annual' , 12 if 'monthly'\n",
        "  basis_perf : 1 if 'annual' , 12 if 'monthly'\n",
        "  \"\"\"\n",
        "  return (x / x.shift(basis_x))**(1/basis_perf)-1\n",
        " \n",
        "def find_eco(data_eco, ref):\n",
        "  return data_eco[ref]\n",
        "\n",
        "def eval_var_eco (var, data_eco) :\n",
        "  res = find_eco(data_eco, var['ref']) \n",
        "  window = int(var['window'])*12\n",
        "  if var['op'] == 'decale':\n",
        "    return res.shift(window, fill_value = 0) # may be changed ???\n",
        "  else:\n",
        "    # must be min, max, moyenne\n",
        "    res = res.rolling(window)\n",
        "    if var['op'] == 'moyenne':\n",
        "      return res.mean()\n",
        "    elif var['op'] == 'max':\n",
        "      return res.max()\n",
        "    else:\n",
        "      return res.min()\n",
        "\n",
        "def compute(formula, vars):\n",
        "  for i in np.arange(0, len(vars)):\n",
        "    formula = formula.replace('x{}'.format(i+1), 'vars[{}]'.format(i))\n",
        "  return eval(formula)"
      ],
      "metadata": {
        "id": "XnGdSq3EkVK5"
      },
      "execution_count": 2,
      "outputs": []
    },
    {
      "cell_type": "markdown",
      "source": [
        "## **Taux concurrentiel (SI) et OTS (politique de résultat)**\n",
        "\n",
        "\n"
      ],
      "metadata": {
        "id": "d3S8qTERk02X"
      }
    },
    {
      "cell_type": "markdown",
      "source": [
        "# Taux de référence \n",
        "\n",
        "* (Niveau 0) var : {\n",
        "  'op': choix dans ['decale', 'min', 'max', 'moyenne'] \n",
        "  'window': Number , \n",
        "  'ref': une variable économique , \n",
        "  'desc': 'decale_0_taux_long'\n",
        "  }\n",
        "*  (Niveau 1) Taux_ref : formule à partir des vars --> on peut définir le taux concurrentiel avec\n",
        "*  (Niveau 2) Rate_func : a * Taux_ref + b --> pas vraiment nécessaire. Mais ça facilite la création des OTS par model point à partir d'un seul Taux_ref (b est généralement le chargement sur encours)\n",
        "* (Niveau 3) OTS : objectif, planchers, plafonds"
      ],
      "metadata": {
        "id": "FaRdb4Uul4rp"
      }
    },
    {
      "cell_type": "code",
      "source": [
        "# taux de référence : name, vars [x1, x2, x3], formula\n",
        "# eval(var_bdd) avec var_bdd tableau des valeurs x1, x2, x3 projetées dans le temps\n",
        "class Taux_ref:\n",
        "  def __init__(self, name, vars, formula):\n",
        "    self.name = name\n",
        "    self.vars = vars\n",
        "    self.formula = formula\n",
        "\n",
        "\n",
        "  def eval(self, var_bdd):\n",
        "    xNames = list(map(lambda x: x['desc'] , self.vars))\n",
        "    vars = var_bdd[xNames]\n",
        "    duree = var_bdd.shape[0]\n",
        "    res = np.zeros(duree)\n",
        "    for i in np.arange(0, duree):\n",
        "      res[i] = compute(self.formula, vars.iloc[i, :])\n",
        "    vars.insert(0, \"output\", res, True)\n",
        "    return vars\n",
        "    \n",
        "\n",
        "# coef A + taux de référence + coefB\n",
        "class Taux_fct :\n",
        "    def __init__(self, a, ref, b):\n",
        "        self.a = a\n",
        "        self.b = b\n",
        "        self.ref = ref  \n",
        "    def __str__(self):\n",
        "      return f\"{self.a :.2%} * {self.ref.name} {self.b:+.2%}\"\n",
        "    \n",
        "    def print(self):\n",
        "      return f\"{self}\"\n",
        "\n",
        "    def eval(self, var_bdd):\n",
        "      return self.a * self.ref.eval(var_bdd)['output'] + self.b\n",
        "\n",
        "\n",
        "\n",
        "# objectif de taux servis\n",
        "# target : taux cible Taux_fct\n",
        "# floor1 : taux plancher 1 -> Taux_fct\n",
        "# floor2 : taux plancher 2 -> propre au produit\n",
        "# cap1 : taux plafond 1 -> Taux_fct\n",
        "# cap2 : taux plancher 2 -> propre au produit\n",
        "class OTS:\n",
        "    def __init__(self, target, floor1, floor2, cap1, cap2):\n",
        "        self.target = target\n",
        "        self.floor1 = floor1\n",
        "        self.floor2 = floor2\n",
        "        self.cap1 = cap1\n",
        "        self.cap2 = cap2\n",
        "    \n",
        "    def print(self):\n",
        "      return {\n",
        "         'objectif': self.target.print(),\n",
        "         'plancher 1': self.floor1.print(),\n",
        "         'plancher 2': self.floor2.print(),\n",
        "         'plafond 1': self.cap1.print(),\n",
        "         'plafond 2': self.cap2.print()\n",
        "      } \n",
        "\n",
        "    def eval(self, var_bdd):\n",
        "      target = self.target.eval(var_bdd)\n",
        "      floor1 = self.floor1.eval(var_bdd)\n",
        "      floor2 = self.floor2.eval(var_bdd)\n",
        "      cap1 = self.cap1.eval(var_bdd)\n",
        "      cap2 = self.cap2.eval(var_bdd)\n",
        "      res = pd.DataFrame({'target': target, 'floor1': floor1, 'floor2': floor2, 'cap1': cap1, 'cap2': cap2})\n",
        "      floor = res[['floor1', 'floor2']].max(axis=1)\n",
        "      cap = res[['cap1', 'cap2']].min(axis=1)\n",
        "      res.insert(1, 'floor', floor, True)\n",
        "      res.insert(4, 'cap', cap, True)\n",
        "      res=res.drop(['floor1', 'floor2', 'cap1', 'cap2'], axis=1)\n",
        "      res['cap'] = res[['floor','cap']].max(axis=1)\n",
        "      return res\n"
      ],
      "metadata": {
        "id": "5isUdUn9jeCL"
      },
      "execution_count": 3,
      "outputs": []
    },
    {
      "cell_type": "markdown",
      "source": [
        "\n",
        "\n",
        "## <strong>Classe</strong>\n",
        "\n",
        "Classe Epargne euro"
      ],
      "metadata": {
        "id": "M-jJzK_IioeI"
      }
    },
    {
      "cell_type": "code",
      "source": [
        "class Epargne_euro:\n",
        "  def __init__(self, name, stock, TMGA, PB_contractuelle, charg_comm, table_morta, loi_echeance, loi_rachat_struc, loi_rachat_conj, taux_conc):\n",
        "    self.name = name \n",
        "    self.stock = stock # une ligne par année de souscription (on en déduit date début et fin de souscription). colonne 1 : PM, colonne 2 : versement potentiel, colonne 3 : TMG moyen\n",
        "    self.tmga = TMGA\n",
        "    self.csg_opt = csg_opt # CSG ? (true/false)\n",
        "    self.pb_min_regl_option # inclus dans calcul PB min regl ? (true/false)\n",
        "    self.pb_contractuelle = PB_contractuelle # {'pdt_fi': 0, 'res_tech_pos': 0, 'res_tech_neg':0}\n",
        "    self.charg_comm = charg_comm # {'chgt_primes':0, 'comm_primes':0, 'chgt_encours':0, 'comm_encours':0, 'pen_rachat': 0 }\n",
        "    self.table_morta = table_morta # année de simu en ligne, année de souscription en colonne\n",
        "    self.loi_echeance = loi_echeance # comme rachat (ou décès, à voir...)\n",
        "    self.loi_rachat_struc = search(loi_rachat_struc, liste_rachats_struc) # nom de la loi\n",
        "    self.loi_rachat_conj = search(loi_rachat_conj, liste_rachats_conj) # nom de la loi. mapping à faire avec la liste des lois de rachats conjoncturels\n",
        "    self.taux_conc = search(taux_conc, liste_taux_ref) # nom du taux de référence. Mapping à faire avec la liste des taux de référence\n",
        "    \n",
        "    #self.OTS = None\n",
        "\n",
        "  def set_OTS(self):\n",
        "    # OTS défini dans la politique de résultats\n",
        "    self.OTS = OTS\n",
        "    \n",
        "\n"
      ],
      "metadata": {
        "id": "iYSGOauYinNn"
      },
      "execution_count": 6,
      "outputs": []
    },
    {
      "cell_type": "code",
      "source": [
        "#test\n",
        "\n",
        "\n",
        "rachats_structurels = pd.read_excel('rachats_structurels.xlsx', header=0, index_col=0)\n",
        "echeances = pd.read_excel('echeances.xlsx', header=0, index_col=0)\n",
        "forcage_TS = pd.read_excel('forcage_TS.xlsx', header=0, index_col=0)\n",
        "frais_generaux = pd.read_excel('frais_generaux.xlsx', header=0, index_col=0)\n",
        "fiscalite = pd.read_excel('fiscalite.xlsx', header=0, index_col=0)\n",
        "rachats_structurels = pd.read_excel('rachats_structurels.xlsx', header=0, index_col=0)\n",
        "\n",
        "name = \"Winalto\"\n",
        "stock = pd.read_excel('stock.xlsx', header=0, index_col=0)\n",
        "TMGA = 0.01\n",
        "PB_contractuelle = {'pdt_fi': 0.85, 'res_tech_pos': 0.9, 'res_tech_neg':1}\n",
        "charg_comm = pd.read_excel('comm_chgt.xlsx', header=0, index_col=0)\n",
        "table_morta =  pd.read_excel('table_morta.xlsx', header=0, index_col=0)\n",
        "loi_echeance = pd.read_excel('echeances.xlsx', header=0, index_col=0)\n",
        "loi_rachat_struc = pd.read_excel('rachats_structurels.xlsx', header=0, index_col=0)\n",
        "loi_rachat_conj = \n",
        "mp1 = Epargne_euro(name, stock, TMGA, PB_contractuelle, charg_comm, table_morta, loi_echeance, loi_rachat_struc, loi_rachat_conj, taux_conc)"
      ],
      "metadata": {
        "id": "wh5TJTeQvWeo"
      },
      "execution_count": null,
      "outputs": []
    }
  ],
  "metadata": {
    "colab": {
      "name": "Markdown Guide",
      "provenance": [],
      "include_colab_link": true
    },
    "kernelspec": {
      "display_name": "Python 3",
      "name": "python3"
    }
  },
  "nbformat": 4,
  "nbformat_minor": 0
}