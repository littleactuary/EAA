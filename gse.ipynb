{
  "cells": [
    {
      "cell_type": "code",
      "source": [
        "import pandas as pd\n",
        "tx_long = pd.read_excel('VARECO_TIRAGES_TXLONG.xlsx', header=1, index_col=0)\n",
        "tx_long"
      ],
      "metadata": {
        "id": "uanvTToA28YY"
      },
      "execution_count": null,
      "outputs": []
    },
    {
      "cell_type": "code",
      "source": [
        "fig = px.box(tx_long.mean(axis=1) , points=\"all\")\n",
        "fig.update_layout(\n",
        "    yaxis_tickformat = '0.00%',\n",
        "        title=\"\",\n",
        "    xaxis_title=\"taux moyen\",\n",
        "    yaxis_title=\"\",\n",
        "  \n",
        "    )\n",
        "fig.show()"
      ],
      "metadata": {
        "id": "0B0jkgQVCQ2B"
      },
      "execution_count": null,
      "outputs": []
    },
    {
      "cell_type": "code",
      "source": [
        "tx_long_all = pd.DataFrame(tx_long.values.flatten(), columns=['taux long'])\n",
        "fig = px.box(tx_long_all)\n",
        "fig.update_layout(\n",
        "    yaxis_tickformat = '0.00%',\n",
        "        title=\"\",\n",
        "    xaxis_title=\"taux\",\n",
        "    yaxis_title=\"\",\n",
        "  \n",
        "    )\n",
        "fig.show()\n"
      ],
      "metadata": {
        "id": "O8l-i5qgB4Bg"
      },
      "execution_count": null,
      "outputs": []
    },
    {
      "cell_type": "code",
      "source": [
        "\n",
        "fig = px.histogram(tx_long_all)\n",
        "fig.update_layout(\n",
        "    xaxis_tickformat = '0.00%',\n",
        "        title=\"\",\n",
        "    xaxis_title=\"taux\",\n",
        "    yaxis_title=\"\",\n",
        "  \n",
        "    )\n",
        "fig.show()"
      ],
      "metadata": {
        "id": "2h0NyaSpMyqM"
      },
      "execution_count": null,
      "outputs": []
    },
    {
      "cell_type": "code",
      "source": [
        "sc_max = tx_long[tx_long.max(axis=1)>=0.5]\n",
        "fig = px.line(sc_max.transpose())\n",
        "fig.update_layout(\n",
        "    yaxis_tickformat = '0.00%',\n",
        "        title=\"Scénarios où le plafond 50% est atteint\",\n",
        "    xaxis_title=\"mois de projection\",\n",
        "    yaxis_title=\"taux long\",\n",
        "   \n",
        "  \n",
        "    )\n",
        "fig.show()\n"
      ],
      "metadata": {
        "id": "gBp04kFdbRvy"
      },
      "execution_count": null,
      "outputs": []
    },
    {
      "cell_type": "code",
      "source": [
        "BE = pd.read_excel('EV09.xlsx', header=5, index_col=0)\n",
        "BE.describe()"
      ],
      "metadata": {
        "id": "HLv-zeoKmbYa"
      },
      "execution_count": null,
      "outputs": []
    },
    {
      "cell_type": "code",
      "source": [
        "fig = px.histogram(BE)\n",
        "fig.update_layout(\n",
        "    \n",
        "    title=\"Histogramme BE par scénario\",\n",
        "    xaxis_title=\"BE (en K€)\",\n",
        "    yaxis_title=\"Nb. d'occurence\",\n",
        "  \n",
        "    )\n",
        "fig.show()"
      ],
      "metadata": {
        "id": "aVfu4ZwYlZmL"
      },
      "execution_count": null,
      "outputs": []
    },
    {
      "cell_type": "code",
      "source": [
        "fig = px.box(BE)\n",
        "fig.update_layout(\n",
        "  \n",
        "        title=\"\",\n",
        "    xaxis_title=\"BE (en K€)\",\n",
        "    yaxis_title=\"\",\n",
        "  \n",
        "    )\n",
        "fig.show()"
      ],
      "metadata": {
        "id": "zMIouSkwl_D7"
      },
      "execution_count": null,
      "outputs": []
    },
    {
      "cell_type": "code",
      "source": [
        "BE_taux_max = BE.loc[sc_max.index]\n",
        "fig = px.histogram(BE_taux_max)\n",
        "fig.update_layout(\n",
        "    \n",
        "    title=\"Histogramme BE par scénario\",\n",
        "    xaxis_title=\"BE (en K€)\",\n",
        "    yaxis_title=\"Nb. d'occurence\",\n",
        "  \n",
        "    )\n",
        "fig.show()\n",
        "\n",
        "fig = px.box(BE_taux_max)\n",
        "fig.update_layout(\n",
        "  \n",
        "        title=\"\",\n",
        "    xaxis_title=\"BE (en K€)\",\n",
        "    yaxis_title=\"\",\n",
        "  \n",
        "    )\n",
        "fig.show()"
      ],
      "metadata": {
        "id": "UufqK_1woTK_"
      },
      "execution_count": null,
      "outputs": []
    },
    {
      "cell_type": "code",
      "source": [
        "BE_extremes = BE[(BE[2021]>29000000) & (BE[2021]<30000000)]\n",
        "\n",
        "\n",
        "sc_BE_extremes = tx_long.loc[BE_extremes.index]\n",
        "\n",
        "#fig = px.line(sc_max.transpose().values.tolist())\n",
        "fig = px.line(sc_BE_extremes.transpose())\n",
        "fig.update_layout(\n",
        "    yaxis_tickformat = '0.00%', \n",
        "    title=\"Scénarios dont BE entre 29 Md€ et 30 M€\",\n",
        "    xaxis_title=\"mois de projection\",\n",
        "    yaxis_title=\"taux long\",\n",
        "   \n",
        "  \n",
        "    )\n",
        "fig.show()"
      ],
      "metadata": {
        "id": "jpQaHBBkruTl"
      },
      "execution_count": null,
      "outputs": []
    },
    {
      "cell_type": "code",
      "source": [
        "BE_extremes = BE[BE[2021]>28000000]\n",
        "sc_BE_extremes = tx_long.loc[BE_extremes.index]\n",
        "fig = px.line(sc_BE_extremes.transpose())\n",
        "fig.update_layout(\n",
        "    yaxis_tickformat = '0.00%', \n",
        "    title=\"Scénarios dont BE > 28 Md€\",\n",
        "    xaxis_title=\"mois de projection\",\n",
        "    yaxis_title=\"taux long\",\n",
        "   \n",
        "  \n",
        "    )\n",
        "fig.show()"
      ],
      "metadata": {
        "id": "SBqG2y6VuiUR"
      },
      "execution_count": null,
      "outputs": []
    }
  ],
  "metadata": {
    "colab": {
      "name": "Bienvenue dans Colaboratory",
      "provenance": []
    },
    "kernelspec": {
      "display_name": "Python 3",
      "name": "python3"
    }
  },
  "nbformat": 4,
  "nbformat_minor": 0
}