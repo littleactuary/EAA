{
  "cells": [
    {
      "cell_type": "markdown",
      "metadata": {
        "id": "view-in-github",
        "colab_type": "text"
      },
      "source": [
        "<a href=\"https://colab.research.google.com/github/littleactuary/EAA/blob/main/hai.ipynb\" target=\"_parent\"><img src=\"https://colab.research.google.com/assets/colab-badge.svg\" alt=\"Open In Colab\"/></a>"
      ]
    },
    {
      "cell_type": "code",
      "source": [
        "import pandas as pd\n",
        "import plotly.express as px\n",
        "\n",
        "\n",
        "\n",
        "data = pd.read_excel('a-hien.xlsx', header=2, index_col = 0)\n",
        "data = data.set_axis(['x'], axis=1)\n",
        "data['cdf'] = [0.5, 0.2, 0.1, 0.05, 0.025, 0.01, 0.005]\n",
        "data.x *=-1\n",
        "data.cdf = data.cdf*(-1)+1\n",
        "print(data)\n",
        "fig = px.line(data, x=\"x\", y=\"cdf\", title='Fonction de répartition')\n",
        "fig.show()\n"
      ],
      "metadata": {
        "id": "GCoAGHbm8UqL",
        "outputId": "61250b1c-4d97-44b2-9109-142ec7984d44",
        "colab": {
          "base_uri": "https://localhost:8080/",
          "height": 685
        }
      },
      "execution_count": 25,
      "outputs": [
        {
          "output_type": "stream",
          "name": "stdout",
          "text": [
            "                                         x    cdf\n",
            "50% (1 fois tous les 2 ans)     -324917.38  0.500\n",
            "20% (1 fois tous les 5 ans       613415.99  0.800\n",
            "10% ( 1 fosi tous les 10 ans)    730273.14  0.900\n",
            "5% (1 fois tous les 20ans)       932861.52  0.950\n",
            "2,5% (1 fois tous les 40 ans)   1655584.41  0.975\n",
            "1% (1 fois tous les 100 ans)    1825139.65  0.990\n",
            "0,5% (1 fois tous les 200 ans)  2101988.20  0.995\n"
          ]
        },
        {
          "output_type": "display_data",
          "data": {
            "text/html": [
              "<html>\n",
              "<head><meta charset=\"utf-8\" /></head>\n",
              "<body>\n",
              "    <div>            <script src=\"https://cdnjs.cloudflare.com/ajax/libs/mathjax/2.7.5/MathJax.js?config=TeX-AMS-MML_SVG\"></script><script type=\"text/javascript\">if (window.MathJax && window.MathJax.Hub && window.MathJax.Hub.Config) {window.MathJax.Hub.Config({SVG: {font: \"STIX-Web\"}});}</script>                <script type=\"text/javascript\">window.PlotlyConfig = {MathJaxConfig: 'local'};</script>\n",
              "        <script src=\"https://cdn.plot.ly/plotly-2.18.2.min.js\"></script>                <div id=\"22919dc4-d22b-4921-b44a-a5d9bf27a5e4\" class=\"plotly-graph-div\" style=\"height:525px; width:100%;\"></div>            <script type=\"text/javascript\">                                    window.PLOTLYENV=window.PLOTLYENV || {};                                    if (document.getElementById(\"22919dc4-d22b-4921-b44a-a5d9bf27a5e4\")) {                    Plotly.newPlot(                        \"22919dc4-d22b-4921-b44a-a5d9bf27a5e4\",                        [{\"hovertemplate\":\"x=%{x}<br>cdf=%{y}<extra></extra>\",\"legendgroup\":\"\",\"line\":{\"color\":\"#636efa\",\"dash\":\"solid\"},\"marker\":{\"symbol\":\"circle\"},\"mode\":\"lines\",\"name\":\"\",\"orientation\":\"v\",\"showlegend\":false,\"x\":[-324917.38,613415.99,730273.14,932861.52,1655584.41,1825139.65,2101988.2],\"xaxis\":\"x\",\"y\":[0.5,0.8,0.9,0.95,0.975,0.99,0.995],\"yaxis\":\"y\",\"type\":\"scatter\"}],                        {\"template\":{\"data\":{\"histogram2dcontour\":[{\"type\":\"histogram2dcontour\",\"colorbar\":{\"outlinewidth\":0,\"ticks\":\"\"},\"colorscale\":[[0.0,\"#0d0887\"],[0.1111111111111111,\"#46039f\"],[0.2222222222222222,\"#7201a8\"],[0.3333333333333333,\"#9c179e\"],[0.4444444444444444,\"#bd3786\"],[0.5555555555555556,\"#d8576b\"],[0.6666666666666666,\"#ed7953\"],[0.7777777777777778,\"#fb9f3a\"],[0.8888888888888888,\"#fdca26\"],[1.0,\"#f0f921\"]]}],\"choropleth\":[{\"type\":\"choropleth\",\"colorbar\":{\"outlinewidth\":0,\"ticks\":\"\"}}],\"histogram2d\":[{\"type\":\"histogram2d\",\"colorbar\":{\"outlinewidth\":0,\"ticks\":\"\"},\"colorscale\":[[0.0,\"#0d0887\"],[0.1111111111111111,\"#46039f\"],[0.2222222222222222,\"#7201a8\"],[0.3333333333333333,\"#9c179e\"],[0.4444444444444444,\"#bd3786\"],[0.5555555555555556,\"#d8576b\"],[0.6666666666666666,\"#ed7953\"],[0.7777777777777778,\"#fb9f3a\"],[0.8888888888888888,\"#fdca26\"],[1.0,\"#f0f921\"]]}],\"heatmap\":[{\"type\":\"heatmap\",\"colorbar\":{\"outlinewidth\":0,\"ticks\":\"\"},\"colorscale\":[[0.0,\"#0d0887\"],[0.1111111111111111,\"#46039f\"],[0.2222222222222222,\"#7201a8\"],[0.3333333333333333,\"#9c179e\"],[0.4444444444444444,\"#bd3786\"],[0.5555555555555556,\"#d8576b\"],[0.6666666666666666,\"#ed7953\"],[0.7777777777777778,\"#fb9f3a\"],[0.8888888888888888,\"#fdca26\"],[1.0,\"#f0f921\"]]}],\"heatmapgl\":[{\"type\":\"heatmapgl\",\"colorbar\":{\"outlinewidth\":0,\"ticks\":\"\"},\"colorscale\":[[0.0,\"#0d0887\"],[0.1111111111111111,\"#46039f\"],[0.2222222222222222,\"#7201a8\"],[0.3333333333333333,\"#9c179e\"],[0.4444444444444444,\"#bd3786\"],[0.5555555555555556,\"#d8576b\"],[0.6666666666666666,\"#ed7953\"],[0.7777777777777778,\"#fb9f3a\"],[0.8888888888888888,\"#fdca26\"],[1.0,\"#f0f921\"]]}],\"contourcarpet\":[{\"type\":\"contourcarpet\",\"colorbar\":{\"outlinewidth\":0,\"ticks\":\"\"}}],\"contour\":[{\"type\":\"contour\",\"colorbar\":{\"outlinewidth\":0,\"ticks\":\"\"},\"colorscale\":[[0.0,\"#0d0887\"],[0.1111111111111111,\"#46039f\"],[0.2222222222222222,\"#7201a8\"],[0.3333333333333333,\"#9c179e\"],[0.4444444444444444,\"#bd3786\"],[0.5555555555555556,\"#d8576b\"],[0.6666666666666666,\"#ed7953\"],[0.7777777777777778,\"#fb9f3a\"],[0.8888888888888888,\"#fdca26\"],[1.0,\"#f0f921\"]]}],\"surface\":[{\"type\":\"surface\",\"colorbar\":{\"outlinewidth\":0,\"ticks\":\"\"},\"colorscale\":[[0.0,\"#0d0887\"],[0.1111111111111111,\"#46039f\"],[0.2222222222222222,\"#7201a8\"],[0.3333333333333333,\"#9c179e\"],[0.4444444444444444,\"#bd3786\"],[0.5555555555555556,\"#d8576b\"],[0.6666666666666666,\"#ed7953\"],[0.7777777777777778,\"#fb9f3a\"],[0.8888888888888888,\"#fdca26\"],[1.0,\"#f0f921\"]]}],\"mesh3d\":[{\"type\":\"mesh3d\",\"colorbar\":{\"outlinewidth\":0,\"ticks\":\"\"}}],\"scatter\":[{\"fillpattern\":{\"fillmode\":\"overlay\",\"size\":10,\"solidity\":0.2},\"type\":\"scatter\"}],\"parcoords\":[{\"type\":\"parcoords\",\"line\":{\"colorbar\":{\"outlinewidth\":0,\"ticks\":\"\"}}}],\"scatterpolargl\":[{\"type\":\"scatterpolargl\",\"marker\":{\"colorbar\":{\"outlinewidth\":0,\"ticks\":\"\"}}}],\"bar\":[{\"error_x\":{\"color\":\"#2a3f5f\"},\"error_y\":{\"color\":\"#2a3f5f\"},\"marker\":{\"line\":{\"color\":\"#E5ECF6\",\"width\":0.5},\"pattern\":{\"fillmode\":\"overlay\",\"size\":10,\"solidity\":0.2}},\"type\":\"bar\"}],\"scattergeo\":[{\"type\":\"scattergeo\",\"marker\":{\"colorbar\":{\"outlinewidth\":0,\"ticks\":\"\"}}}],\"scatterpolar\":[{\"type\":\"scatterpolar\",\"marker\":{\"colorbar\":{\"outlinewidth\":0,\"ticks\":\"\"}}}],\"histogram\":[{\"marker\":{\"pattern\":{\"fillmode\":\"overlay\",\"size\":10,\"solidity\":0.2}},\"type\":\"histogram\"}],\"scattergl\":[{\"type\":\"scattergl\",\"marker\":{\"colorbar\":{\"outlinewidth\":0,\"ticks\":\"\"}}}],\"scatter3d\":[{\"type\":\"scatter3d\",\"line\":{\"colorbar\":{\"outlinewidth\":0,\"ticks\":\"\"}},\"marker\":{\"colorbar\":{\"outlinewidth\":0,\"ticks\":\"\"}}}],\"scattermapbox\":[{\"type\":\"scattermapbox\",\"marker\":{\"colorbar\":{\"outlinewidth\":0,\"ticks\":\"\"}}}],\"scatterternary\":[{\"type\":\"scatterternary\",\"marker\":{\"colorbar\":{\"outlinewidth\":0,\"ticks\":\"\"}}}],\"scattercarpet\":[{\"type\":\"scattercarpet\",\"marker\":{\"colorbar\":{\"outlinewidth\":0,\"ticks\":\"\"}}}],\"carpet\":[{\"aaxis\":{\"endlinecolor\":\"#2a3f5f\",\"gridcolor\":\"white\",\"linecolor\":\"white\",\"minorgridcolor\":\"white\",\"startlinecolor\":\"#2a3f5f\"},\"baxis\":{\"endlinecolor\":\"#2a3f5f\",\"gridcolor\":\"white\",\"linecolor\":\"white\",\"minorgridcolor\":\"white\",\"startlinecolor\":\"#2a3f5f\"},\"type\":\"carpet\"}],\"table\":[{\"cells\":{\"fill\":{\"color\":\"#EBF0F8\"},\"line\":{\"color\":\"white\"}},\"header\":{\"fill\":{\"color\":\"#C8D4E3\"},\"line\":{\"color\":\"white\"}},\"type\":\"table\"}],\"barpolar\":[{\"marker\":{\"line\":{\"color\":\"#E5ECF6\",\"width\":0.5},\"pattern\":{\"fillmode\":\"overlay\",\"size\":10,\"solidity\":0.2}},\"type\":\"barpolar\"}],\"pie\":[{\"automargin\":true,\"type\":\"pie\"}]},\"layout\":{\"autotypenumbers\":\"strict\",\"colorway\":[\"#636efa\",\"#EF553B\",\"#00cc96\",\"#ab63fa\",\"#FFA15A\",\"#19d3f3\",\"#FF6692\",\"#B6E880\",\"#FF97FF\",\"#FECB52\"],\"font\":{\"color\":\"#2a3f5f\"},\"hovermode\":\"closest\",\"hoverlabel\":{\"align\":\"left\"},\"paper_bgcolor\":\"white\",\"plot_bgcolor\":\"#E5ECF6\",\"polar\":{\"bgcolor\":\"#E5ECF6\",\"angularaxis\":{\"gridcolor\":\"white\",\"linecolor\":\"white\",\"ticks\":\"\"},\"radialaxis\":{\"gridcolor\":\"white\",\"linecolor\":\"white\",\"ticks\":\"\"}},\"ternary\":{\"bgcolor\":\"#E5ECF6\",\"aaxis\":{\"gridcolor\":\"white\",\"linecolor\":\"white\",\"ticks\":\"\"},\"baxis\":{\"gridcolor\":\"white\",\"linecolor\":\"white\",\"ticks\":\"\"},\"caxis\":{\"gridcolor\":\"white\",\"linecolor\":\"white\",\"ticks\":\"\"}},\"coloraxis\":{\"colorbar\":{\"outlinewidth\":0,\"ticks\":\"\"}},\"colorscale\":{\"sequential\":[[0.0,\"#0d0887\"],[0.1111111111111111,\"#46039f\"],[0.2222222222222222,\"#7201a8\"],[0.3333333333333333,\"#9c179e\"],[0.4444444444444444,\"#bd3786\"],[0.5555555555555556,\"#d8576b\"],[0.6666666666666666,\"#ed7953\"],[0.7777777777777778,\"#fb9f3a\"],[0.8888888888888888,\"#fdca26\"],[1.0,\"#f0f921\"]],\"sequentialminus\":[[0.0,\"#0d0887\"],[0.1111111111111111,\"#46039f\"],[0.2222222222222222,\"#7201a8\"],[0.3333333333333333,\"#9c179e\"],[0.4444444444444444,\"#bd3786\"],[0.5555555555555556,\"#d8576b\"],[0.6666666666666666,\"#ed7953\"],[0.7777777777777778,\"#fb9f3a\"],[0.8888888888888888,\"#fdca26\"],[1.0,\"#f0f921\"]],\"diverging\":[[0,\"#8e0152\"],[0.1,\"#c51b7d\"],[0.2,\"#de77ae\"],[0.3,\"#f1b6da\"],[0.4,\"#fde0ef\"],[0.5,\"#f7f7f7\"],[0.6,\"#e6f5d0\"],[0.7,\"#b8e186\"],[0.8,\"#7fbc41\"],[0.9,\"#4d9221\"],[1,\"#276419\"]]},\"xaxis\":{\"gridcolor\":\"white\",\"linecolor\":\"white\",\"ticks\":\"\",\"title\":{\"standoff\":15},\"zerolinecolor\":\"white\",\"automargin\":true,\"zerolinewidth\":2},\"yaxis\":{\"gridcolor\":\"white\",\"linecolor\":\"white\",\"ticks\":\"\",\"title\":{\"standoff\":15},\"zerolinecolor\":\"white\",\"automargin\":true,\"zerolinewidth\":2},\"scene\":{\"xaxis\":{\"backgroundcolor\":\"#E5ECF6\",\"gridcolor\":\"white\",\"linecolor\":\"white\",\"showbackground\":true,\"ticks\":\"\",\"zerolinecolor\":\"white\",\"gridwidth\":2},\"yaxis\":{\"backgroundcolor\":\"#E5ECF6\",\"gridcolor\":\"white\",\"linecolor\":\"white\",\"showbackground\":true,\"ticks\":\"\",\"zerolinecolor\":\"white\",\"gridwidth\":2},\"zaxis\":{\"backgroundcolor\":\"#E5ECF6\",\"gridcolor\":\"white\",\"linecolor\":\"white\",\"showbackground\":true,\"ticks\":\"\",\"zerolinecolor\":\"white\",\"gridwidth\":2}},\"shapedefaults\":{\"line\":{\"color\":\"#2a3f5f\"}},\"annotationdefaults\":{\"arrowcolor\":\"#2a3f5f\",\"arrowhead\":0,\"arrowwidth\":1},\"geo\":{\"bgcolor\":\"white\",\"landcolor\":\"#E5ECF6\",\"subunitcolor\":\"white\",\"showland\":true,\"showlakes\":true,\"lakecolor\":\"white\"},\"title\":{\"x\":0.05},\"mapbox\":{\"style\":\"light\"}}},\"xaxis\":{\"anchor\":\"y\",\"domain\":[0.0,1.0],\"title\":{\"text\":\"x\"}},\"yaxis\":{\"anchor\":\"x\",\"domain\":[0.0,1.0],\"title\":{\"text\":\"cdf\"}},\"legend\":{\"tracegroupgap\":0},\"title\":{\"text\":\"Fonction de r\\u00e9partition\"}},                        {\"responsive\": true}                    ).then(function(){\n",
              "                            \n",
              "var gd = document.getElementById('22919dc4-d22b-4921-b44a-a5d9bf27a5e4');\n",
              "var x = new MutationObserver(function (mutations, observer) {{\n",
              "        var display = window.getComputedStyle(gd).display;\n",
              "        if (!display || display === 'none') {{\n",
              "            console.log([gd, 'removed!']);\n",
              "            Plotly.purge(gd);\n",
              "            observer.disconnect();\n",
              "        }}\n",
              "}});\n",
              "\n",
              "// Listen for the removal of the full notebook cells\n",
              "var notebookContainer = gd.closest('#notebook-container');\n",
              "if (notebookContainer) {{\n",
              "    x.observe(notebookContainer, {childList: true});\n",
              "}}\n",
              "\n",
              "// Listen for the clearing of the current output cell\n",
              "var outputEl = gd.closest('.output');\n",
              "if (outputEl) {{\n",
              "    x.observe(outputEl, {childList: true});\n",
              "}}\n",
              "\n",
              "                        })                };                            </script>        </div>\n",
              "</body>\n",
              "</html>"
            ]
          },
          "metadata": {}
        }
      ]
    },
    {
      "cell_type": "code",
      "source": [
        "import scipy\n",
        "f = lambda x,mu,sigma: scipy.stats.norm(mu,sigma).cdf(x)\n",
        "mu,sigma = scipy.optimize.curve_fit(f,data.x,data.cdf)[0]\n",
        "\n"
      ],
      "metadata": {
        "id": "Y-M98QwTDYbA",
        "outputId": "269d0270-3472-465f-e591-ea817531902d",
        "colab": {
          "base_uri": "https://localhost:8080/"
        }
      },
      "execution_count": 26,
      "outputs": [
        {
          "output_type": "stream",
          "name": "stderr",
          "text": [
            "/usr/local/lib/python3.10/dist-packages/scipy/optimize/_minpack_py.py:906: OptimizeWarning:\n",
            "\n",
            "Covariance of the parameters could not be estimated\n",
            "\n"
          ]
        }
      ]
    },
    {
      "cell_type": "markdown",
      "source": [
        "\n",
        "# **Inputs**"
      ],
      "metadata": {
        "id": "LJGvI9SXcY0P"
      }
    },
    {
      "cell_type": "markdown",
      "source": [
        "## import"
      ],
      "metadata": {
        "id": "q-LVZ4wyc0Jv"
      }
    },
    {
      "cell_type": "code",
      "source": [
        "import numbers\n",
        "import numpy as np\n",
        "import pandas as pd\n",
        "import plotly.graph_objects as go\n",
        "import plotly.express as px\n",
        "pd.options.plotting.backend = \"plotly\"\n"
      ],
      "metadata": {
        "id": "CxCBeuopTMuN"
      },
      "execution_count": null,
      "outputs": []
    },
    {
      "cell_type": "code",
      "source": [
        "tx_conc = pd.read_excel('tx_conc.xlsx', header=0, index_col=0)['Taux conc sans cste sans plancher']\n",
        "tx_chgt_encours = 0.0075\n",
        "tc_brut = tx_conc + tx_chgt_encours\n",
        "TS = forcage_TS.rename(columns={\"forçage taux provisoire\": \"provisoire\", \"forçage taux définitif\": \"definitif\"})\n",
        "TS_brut = TS.definitif#.reindex(np.arange())"
      ],
      "metadata": {
        "id": "URcmgykWa_Qv"
      },
      "execution_count": null,
      "outputs": []
    },
    {
      "cell_type": "code",
      "source": [
        "historique = pd.read_excel('historique.xlsx', header=0, index_col=0)\n",
        "historique = historique.rename(columns={\n",
        "    \"TAUX 3M\": \"taux court\",\n",
        "    \"Tx Oblig,10A\": \"taux long\",\n",
        "    \"Spread A\": \"spread A\",\n",
        "    \"Ind,Actions\" : \"ind act cotee\",\n",
        "    \"Tx dividendes\" : \"taux div act cotee\",\n",
        "    \"Ind,Immo\" : \"ind imm\",\n",
        "    \"Tx inflation\" : \"taux inflation\"\n",
        "    })\n",
        "\n",
        "\n",
        "\n",
        "sc_eco = pd.read_excel('sc_eco.xlsx', header=0, index_col=0)\n",
        "sc_eco = sc_eco.rename(columns={\n",
        "    \"Taux court\": \"taux court\",\n",
        "    \"Taux long\": \"taux long\",\n",
        "    \"AAA\": \"spread AAA\",\n",
        "    \"AA\": \"spread AA\",\n",
        "    \"A\": \"spread A\",\n",
        "    \"Ind Cotees\" : \"ind act cotee\",\n",
        "    \"Tx div Cotees\" : \"taux div act cotee\",\n",
        "    \"Indice Placement 1\" : \"ind imm\",\n",
        "    \"Inflation\" : \"taux inflation\"\n",
        "    })\n",
        "\n",
        "base1 = historique[['taux court', 'taux long', 'taux inflation', 'spread A', 'taux div act cotee', 'ind act cotee', 'ind imm']]\n",
        "base1['ind act cotee'] = base1['ind act cotee']/base1['ind act cotee'][-1]*100\n",
        "base1['ind imm'] = base1['ind imm']/base1['ind imm'][-1]*100\n",
        "base2 = sc_eco[['taux court', 'taux long', 'taux inflation', 'spread A', 'taux div act cotee', 'ind act cotee', 'ind imm']]\n",
        "base_eco = pd.concat([base1, base2.iloc[1:, ]])\n",
        "base_eco['perf act cotee hors div'] =perf(base_eco['ind act cotee'], 12, 1)\n",
        "base_eco['perf imm yc loyer'] =perf(base_eco['ind imm'], 12, 1)\n",
        "\n",
        "# base_eco dépend de l'historique et du sc éco. L'historique ne change pas, mais sc éco change en fonction du scénario. Il faut mettre à jour cette base à chaque scénario"
      ],
      "metadata": {
        "id": "ObeDRnrrMVAp"
      },
      "execution_count": null,
      "outputs": []
    },
    {
      "cell_type": "code",
      "source": [
        "annee_SI = 2021\n",
        "duree_proj_ans= 10\n",
        "tmg = PM['TMG moyen/stock']\n",
        "col_ts = ['tmg','tsp', 'tsp_floor', 'tsp_cap', 'tsd', 'tsd_floor', 'tsd_cap','tsd_net', 'tx_conc_net', 'ega', 'tx_rachat_conj']\n",
        "taux_servis = pd.DataFrame(np.zeros(shape=(duree_proj_ans+2, len(col_ts))), columns=col_ts).set_index(np.arange(-1, 11)+annee_SI)\n",
        "tsd_last = 0.02\n",
        "tsd_prec = 0.02\n",
        "# tx_conc_nets\n",
        "tx_conc_last = 0.0151 - tx_chgt_encours\n",
        "tx_conc_prec = 0.0176 - tx_chgt_encours\n",
        "tmg_moyen = (PM['PM initiales']*tmg).sum() / PM['PM initiales'].sum()\n",
        "\n",
        "# taux_servis : table des taux servis qui sera rempli au fur et a mesure\n",
        "taux_servis.loc[annee_SI-1,] = [np.nan, np.nan, np.nan, np.nan, tsd_prec, np.nan, np.nan, tsd_prec - tx_chgt_encours, tx_conc_last, np.nan, np.nan]\n",
        "taux_servis.loc[annee_SI,] =   [np.nan, np.nan, np.nan, np.nan, tsd_last, np.nan, np.nan, tsd_last - tx_chgt_encours, tx_conc_prec, np.nan, np.nan]"
      ],
      "metadata": {
        "id": "t6ws6rptyOh8"
      },
      "execution_count": null,
      "outputs": []
    },
    {
      "cell_type": "code",
      "source": [
        "# test rachat conjoncturel\n",
        "for annee in np.arange(2022, 2031) :\n",
        "  # forcage TS, à compléter avec les TS modélisés plus tard\n",
        "  taux_servis.loc[annee, ['tsd', 'tsd_net', 'tx_conc_net']] = [TS.loc[annee, 'definitif'], TS.loc[annee, 'definitif']- tx_chgt_encours, tx_conc.loc[annee]]\n",
        "\n",
        "  ega = EGA(taux_servis.loc[annee-1, 'tsd_net'], taux_servis.loc[annee-2, 'tsd_net'], taux_servis.loc[annee-1, 'tx_conc_net'], taux_servis.loc[annee-2, 'tx_conc_net'])\n",
        "  rc = rachat_conj(alpha, beta, delta, rc_min, rc_max, ega)\n",
        "\n",
        "  taux_servis.loc[annee, 'ega'] = ega\n",
        "  taux_servis.loc[annee, 'tx_rachat_conj'] = rc"
      ],
      "metadata": {
        "id": "N6y02i2j7QqM"
      },
      "execution_count": null,
      "outputs": []
    },
    {
      "cell_type": "markdown",
      "source": [
        "## functions"
      ],
      "metadata": {
        "id": "0FQc34I5c2d7"
      }
    },
    {
      "cell_type": "code",
      "source": [
        "# chercher par nom (name) dans une liste d'objets\n",
        "# exemple : chercher la loi de rachat d'un model point parmi la liste de toutes les lois de rachats\n",
        "def search(name, mylist):\n",
        "  try :\n",
        "    return [x for x in mylist if x['name'] == name][0]\n",
        "  except:\n",
        "    return 0"
      ],
      "metadata": {
        "id": "Z5eNbhW-fO6V"
      },
      "execution_count": null,
      "outputs": []
    },
    {
      "cell_type": "code",
      "source": [
        "# interpolation for converting annual data to monthly data\n",
        "# input has to be a annual dataFrame (with one column ?)\n",
        "# type: linear/polynomial/etc with specific order\n",
        "def monthly_interp(input, type='linear', order=2) :\n",
        "  last_row = len(input)\n",
        "  res = input.set_index(np.arange(1, last_row+1, dtype=int)*12).reindex(np.arange(0, last_row*12+1, dtype=int))\n",
        "  res.iloc[0,0]=0\n",
        "  res = res.interpolate(type, order=order).iloc[1:, ]\n",
        "  return res"
      ],
      "metadata": {
        "id": "DSyCK0DmpiH9"
      },
      "execution_count": null,
      "outputs": []
    },
    {
      "cell_type": "code",
      "source": [
        "# ecart glissant absolu\n",
        "# ts/tc : taux servi/taux conc de la dernière année, ts_ant/tc_ant : taux servi/taux conc de l'avant-dernière année\n",
        "def EGA(ts, ts_ant, tc, tc_ant):\n",
        "  return (ts+ts_ant-tc-tc_ant)/2"
      ],
      "metadata": {
        "id": "m99i6tmodB0x"
      },
      "execution_count": null,
      "outputs": []
    },
    {
      "cell_type": "code",
      "source": [
        "def perf(x, basis_x, basis_perf):\n",
        "  \"\"\"\n",
        "  x : series of variable\n",
        "  basis_x: 1 if 'annual' , 12 if 'monthly'\n",
        "  basis_perf : 1 if 'annual' , 12 if 'monthly'\n",
        "  \"\"\"\n",
        "  return (x / x.shift(basis_x))**(1/basis_perf)-1\n",
        "\n",
        "def find_eco(data_eco, ref):\n",
        "  return data_eco[ref]\n",
        "\n",
        "def eval_var_eco (var, data_eco) :\n",
        "  res = find_eco(data_eco, var['ref'])\n",
        "  window = int(var['window'])*12\n",
        "  if var['op'] == 'decale':\n",
        "    return res.shift(window, fill_value = 0) # may be changed ???\n",
        "  else:\n",
        "    # must be min, max, moyenne\n",
        "    res = res.rolling(window)\n",
        "    if var['op'] == 'moyenne':\n",
        "      return res.mean()\n",
        "    elif var['op'] == 'max':\n",
        "      return res.max()\n",
        "    else:\n",
        "      return res.min()\n",
        "\n",
        "def compute(formula, vars):\n",
        "  for i in np.arange(0, len(vars)):\n",
        "    formula = formula.replace('x{}'.format(i+1), 'vars[{}]'.format(i))\n",
        "  return eval(formula)"
      ],
      "metadata": {
        "id": "vt7lwtvsdtiF"
      },
      "execution_count": null,
      "outputs": []
    },
    {
      "cell_type": "markdown",
      "source": [
        "# Epargne Euro"
      ],
      "metadata": {
        "id": "nQxqU4H8NVs7"
      }
    },
    {
      "cell_type": "code",
      "source": [
        "PM_vec = PM['PM initiales']\n",
        "PM_flat = PM_vec\n",
        "\n",
        "# taux de versements libres potentiels (par année de souscription)\n",
        "tx_vers_mensuel = (PM['Vers, libres']/PM_vec)/ 12\n",
        "\n",
        "nb_subs_years = len(PM.index)\n",
        "last_lapse_rate = rachats_structurels.iloc[-1][0]\n",
        "\n",
        "zero_vec = pd.Series(np.zeros(shape=(nb_subs_years)), index = PM.index)\n",
        "\n",
        "duree_proj_ans = 10\n",
        "duree_proj_mois = duree_proj_ans*12\n",
        "cols = ['PM flat', 'PM avec TMG', 'PM', 'primes',  'rachats', 'rachats_struc', 'rachats_conj', 'deces', 'echeances', 'chgt/encours', 'comm/encours', 'chgt/primes', 'comm/primes' , 'pen_rachat', 'CSG',\n",
        "        'IC liq rachats', 'IC liq deces', 'IC liq echeances', 'PB liq rachat', 'PB liq deces', 'PB liq echeances']\n",
        "# initier le tableau de projection\n",
        "proj = pd.DataFrame(np.zeros(shape=(duree_proj_mois+1, len(cols))), columns=cols)\n",
        "proj.iloc[0, 0] = PM_vec.sum()\n",
        "proj.iloc[0, 1] = proj.iloc[0, 0]\n",
        "proj.iloc[0, 2] = proj.iloc[0, 0]\n",
        "\n",
        "col_ts = ['tsp', 'tsp_floor', 'tsp_cap', 'tsd', 'tsd_floor', 'tsd_cap','tsd_net', 'tmg']\n",
        "taux_servi = pd.DataFrame(np.zeros(shape=(duree_proj_ans+1, len(col_ts))), columns=col_ts)\n",
        "\n",
        "# tableau de PM par année de souscription, projeté par mois (ce sera utile ...)\n",
        "for mois in np.arange(1,duree_proj_mois+1) :\n",
        "  # m = 0, 1, 2, ..., 11\n",
        "  m = (mois-1)%12\n",
        "  CSG = 0\n",
        "  # debut d'année\n",
        "  if m == 0:\n",
        "    # year n = 0, 1, 2, ...\n",
        "    n = int((mois-1)/12)\n",
        "    PM_flat = PM_vec\n",
        "    PM_tmg = PM_vec\n",
        "    # cumul des couts pour les assures (chargements et penalites) pendant l'année\n",
        "    chgt_pen_cumul = zero_vec\n",
        "    # TS provisoire\n",
        "    tx_prov = TS.iloc[n].provisoire\n",
        "\n",
        "    # EGA pour rachat conj\n",
        "    # forcage TS, à compléter avec les TS modélisés plus tard\n",
        "    annee = n + annee_SI +1\n",
        "    taux_servis.loc[annee, ['tsd', 'tsd_net', 'tx_conc_net']] = [TS.loc[annee, 'definitif'], TS.loc[annee, 'definitif']- tx_chgt_encours, tx_conc.loc[annee]]\n",
        "\n",
        "    ega = EGA(taux_servis.loc[annee-1, 'tsd_net'], taux_servis.loc[annee-2, 'tsd_net'], taux_servis.loc[annee-1, 'tx_conc_net'], taux_servis.loc[annee-2, 'tx_conc_net'])\n",
        "    tx_rc_annuel = rachat_conj(alpha, beta, delta, rc_min, rc_max, ega)\n",
        "\n",
        "    taux_servis.loc[annee, 'ega'] = ega\n",
        "    taux_servis.loc[annee, 'tx_rachat_conj'] = tx_rc_annuel\n",
        "\n",
        "\n",
        "  # chgt / encours\n",
        "  chgt_encours_flat =  PM_flat * tx_chgt_encours/12\n",
        "  chgt_encours_tmg =  PM_tmg * tx_chgt_encours/12\n",
        "  chgt_encours_vec =  PM_vec * tx_chgt_encours/12\n",
        "\n",
        "  # comm / encours\n",
        "  comm_encours_vec = PM_vec * tx_comm_encours/12\n",
        "\n",
        "  # calculs intermediaires\n",
        "  revalo_tmg_demi_mois = (1+tmg)**(1/24)\n",
        "  revalo_prov_demi_mois = (1+tx_prov)**(1/24)\n",
        "\n",
        "  t_depuis_jan = (m+0.5)/12\n",
        "  coef_ic_pb_liq = 1-(1+tx_prov)**(-t_depuis_jan)\n",
        "  coef_ic_liq = 1-(1+tmg)**(-t_depuis_jan)\n",
        "\n",
        "  # milieu de mois\n",
        "  PM_flat = (PM_flat - chgt_encours_flat)\n",
        "  PM_tmg = (PM_tmg - chgt_encours_tmg)*revalo_tmg_demi_mois\n",
        "  PM_vec = (PM_vec - chgt_encours_vec)*revalo_prov_demi_mois\n",
        "\n",
        "\n",
        "\n",
        "  # echeance\n",
        "  #tx_echeance = echeances.shift(periods=-n, fill_value=last_echeance_rate).iloc[::-1].iloc[-nb_subs_years:].set_index(PM_vec.index).iloc[:,0] /12\n",
        "  tx_echeance = echeances.iloc[n]/12\n",
        "\n",
        "  echeance_vec = PM_vec*tx_echeance\n",
        "  ic_pb_liq_echeance = echeance_vec*coef_ic_pb_liq\n",
        "  ic_liq_echeance = echeance_vec*coef_ic_liq\n",
        "  pb_liq_echeance = ic_pb_liq_echeance - ic_liq_echeance\n",
        "\n",
        "  # deces\n",
        "  tx_deces = table_morta.iloc[n]/12\n",
        "  deces_vec = PM_vec*tx_deces\n",
        "  ic_pb_liq_deces = deces_vec*coef_ic_pb_liq\n",
        "  ic_liq_deces = deces_vec*coef_ic_liq\n",
        "  pb_liq_deces = ic_pb_liq_deces - ic_liq_deces\n",
        "\n",
        "  # rachat (structurel+ conj)\n",
        "  # tx_rachat_conj = 1- (1-tx_rc_annuel)**(1/12)\n",
        "  tx_rachat_conj = tx_rc_annuel/12\n",
        "  # à modifier : taux rachat mensuel <> taux rachat annuel /12. il y a un lissage mensuel\n",
        "  #tx_rachat_struc = rachats_structurels.shift(periods=-n, fill_value=last_lapse_rate).iloc[::-1].iloc[-nb_subs_years:].set_index(PM_vec.index).iloc[:,0]/12\n",
        "  tx_rachat_struc = rachats_structurels.shift(periods=-mois, fill_value=last_lapse_rate).iloc[::-1].iloc[-nb_subs_years:].set_index(PM_vec.index).iloc[:,0]/12\n",
        "\n",
        "  #tx_rachat = tx_rachat_struc + tx_rachat_conj\n",
        "  #rachat_vec = PM_vec * tx_rachat\n",
        "  rachat_struc_vec = PM_vec * tx_rachat_struc\n",
        "  rachat_conj_vec = PM_vec * tx_rachat_conj\n",
        "  rachat_vec = rachat_struc_vec + rachat_conj_vec\n",
        "  pen_rachat = rachat_vec*tx_pen_rachat\n",
        "  rachat_vec = rachat_vec - pen_rachat\n",
        "\n",
        "  ic_pb_liq_rachat = rachat_vec*coef_ic_pb_liq\n",
        "  ic_liq_rachat = rachat_vec*coef_ic_liq\n",
        "  pb_liq_rachat = ic_pb_liq_rachat - ic_liq_rachat\n",
        "\n",
        "  chgt_pen_cumul = chgt_pen_cumul + chgt_encours_vec + pen_rachat\n",
        "\n",
        "\n",
        "\n",
        "  sorties_sans_pen_vec = echeance_vec + deces_vec + rachat_vec + pen_rachat\n",
        "  PM_flat = PM_flat - sorties_sans_pen_vec\n",
        "  PM_tmg = PM_tmg - sorties_sans_pen_vec\n",
        "  PM_vec = PM_vec - sorties_sans_pen_vec\n",
        "\n",
        "  # versements, affaires nouvelles\n",
        "\n",
        "  versement =  PM_vec * tx_vers_mensuel\n",
        "  chgt_primes = versement * tx_chgt_primes\n",
        "  comm_primes = versement * tx_comm_primes\n",
        "  versement = versement - chgt_primes\n",
        "\n",
        "\n",
        "  # revalo fin de mois ou fin d'année\n",
        "  PM_tmg = (PM_tmg+ versement) * revalo_tmg_demi_mois\n",
        "  PM_vec = (PM_vec+ versement) * revalo_prov_demi_mois\n",
        "\n",
        "\n",
        "  # si decembre\n",
        "  if m == 11:\n",
        "    tx_def = TS.iloc[n].definitif\n",
        "    PM_vec = PM_vec*(1+tx_def)/(1+tx_prov)\n",
        "    # prelevement CSG\n",
        "    CSG_vec = (PM_vec - PM_flat- chgt_pen_cumul)*tx_CSG.iloc[n]\n",
        "    PM_vec = PM_vec - CSG_vec\n",
        "    CSG = CSG_vec.sum()\n",
        "\n",
        "  proj.iloc[mois] = [PM_flat.sum(), PM_tmg.sum(), PM_vec.sum(), versement.sum(), rachat_vec.sum(), rachat_struc_vec.sum(), rachat_conj_vec.sum(), deces_vec.sum(), echeance_vec.sum(),\n",
        "                     chgt_encours_vec.sum(), comm_encours_vec.sum(), chgt_primes.sum(), comm_primes.sum() , pen_rachat.sum(), CSG,\n",
        "                     ic_liq_rachat.sum(), ic_liq_deces.sum(), ic_liq_echeance.sum(), pb_liq_rachat.sum(), pb_liq_deces.sum(), pb_liq_echeance.sum()]"
      ],
      "metadata": {
        "id": "J1oelYt2lqVL"
      },
      "execution_count": null,
      "outputs": []
    },
    {
      "cell_type": "code",
      "source": [
        "frais_generaux = frais_generaux.rename(columns={\"Sur encours\": \"encours\", \"Sur aff, nouv,\": \"AN\", \"Sur versmt\": \"vers\", \"Sur décès\": \"deces\", \"Sur sorties\": \"sorties\"})\n",
        "tx_frais_generaux = frais_generaux.loc[np.repeat(frais_generaux.index, 12)].reset_index(drop=True).iloc[0:duree_proj_mois+1]\n",
        "\n",
        "\n",
        "proj['frais/encours']=proj['PM'].mul(tx_frais_generaux['encours'], axis='index').shift(periods=1, fill_value=0)/12\n",
        "proj['frais/versements']=proj['rachats'].mul(tx_frais_generaux['sorties'].shift(periods=1, fill_value=0), axis='index')\n",
        "proj['frais/rachats']=proj['rachats'].mul(tx_frais_generaux['sorties'].shift(periods=1, fill_value=0), axis='index')\n",
        "proj['frais/deces']=proj['deces'].mul(tx_frais_generaux['deces'].shift(periods=1, fill_value=0), axis='index')\n",
        "proj['frais/echeances']=proj['echeances'].mul(tx_frais_generaux['sorties'].shift(periods=1, fill_value=0), axis='index')"
      ],
      "metadata": {
        "id": "xw_Avf6dIfcg"
      },
      "execution_count": null,
      "outputs": []
    },
    {
      "cell_type": "code",
      "source": [
        "# alternative solution\n",
        "frais_generaux = frais_generaux.rename(columns={\"Sur encours\": \"encours\", \"Sur aff, nouv,\": \"AN\", \"Sur versmt\": \"vers\", \"Sur décès\": \"deces\", \"Sur sorties\": \"sorties\"})\n",
        "tx_frais_generaux = frais_generaux.loc[np.repeat(frais_generaux.index, 12)].reset_index(drop=True).iloc[0:duree_proj_mois+1].shift(periods=1, fill_value=0)\n",
        "tx_frais_generaux['encours'] = tx_frais_generaux['encours']/12\n",
        "assiette = proj[['PM', 'primes', 'primes', 'deces', 'rachats']]\n",
        "assiette.columns = tx_frais_generaux.columns.values\n",
        "frais = assiette*tx_frais_generaux\n"
      ],
      "metadata": {
        "id": "GhC5LqxWF6Ak"
      },
      "execution_count": null,
      "outputs": []
    },
    {
      "cell_type": "code",
      "source": [
        "# Cash assurance\n",
        "frais = frais.sum(axis=1)\n",
        "comm = proj['comm/encours']\n",
        "presta = proj[['rachats', 'deces', 'echeances']].sum(axis=1)\n",
        "primes = proj['primes']\n",
        "pen = proj['pen_rachat']\n",
        "cash = pd.DataFrame(primes + pen - presta - frais - comm, columns=['assurance'])\n",
        "\n",
        "# cash divers :\n",
        "# recettes diverses : variation des dettes diverses, nouveaux emprunts subordonnés, augmentations de capital\n",
        "# ratio dettes diverses /PM fixe dans le temps --> remboursement mensuel de dettes diverses rentre (en négatif) dans recettes diverses\n",
        "# dépenses diverses : variation des autres actifs et des matériels/mobiliers, rembousrement des emprunts subordonnés, remboursement de primpe de remboursement, intérêt versés (sur emprunts subordonnés, dividendes versés, IS)\n",
        "\n",
        "\n"
      ],
      "metadata": {
        "id": "vbnSjjQaKqy-"
      },
      "execution_count": null,
      "outputs": []
    },
    {
      "cell_type": "code",
      "source": [
        "# IS\n",
        "tx_IS = fiscalite['Taux IS CT'].loc[np.repeat(frais_generaux.index, 12)].reset_index(drop=True).iloc[0:duree_proj_mois+1].shift(periods=1, fill_value=0)\n",
        "res_brut_IS = 0\n",
        "res_net_IS = tx_IS*res_brut_IS"
      ],
      "metadata": {
        "id": "0cngZNxjBBgY"
      },
      "execution_count": null,
      "outputs": []
    },
    {
      "cell_type": "markdown",
      "source": [
        "\n",
        "\n",
        "\n",
        "**Taux de référence.\n",
        "Comment le définir de manière dynamique**\n",
        "\n",
        "\n",
        "\n",
        "**et l'évaluer à chaque pas de temps ?**"
      ],
      "metadata": {
        "id": "TQas6_07wmh3"
      }
    },
    {
      "cell_type": "markdown",
      "source": [
        "Rate_ref : objet pour un taux de référence\n",
        "name\n",
        "els : liste des taux élémentaires utilisant dans la construction du taux de référence (par exemple : moyenne 5 ans des taux 10ans, taux court, ...)\n",
        "els_values : pandas dataframe pour stocker les valeurs des taux élémentaires chaque année\n",
        "formula : définition du taux à partir des taux éléments"
      ],
      "metadata": {
        "id": "pFT2P2VsxJL3"
      }
    },
    {
      "cell_type": "code",
      "source": [
        "# taux de référence : name, vars [x1, x2, x3], formula\n",
        "# eval(var_bdd) avec var_bdd tableau des valeurs x1, x2, x3 projetées dans le temps\n",
        "class Taux_ref:\n",
        "  def __init__(self, name, vars, formula):\n",
        "    self.name = name\n",
        "    self.vars = vars\n",
        "    self.formula = formula\n",
        "\n",
        "\n",
        "  def eval(self, var_bdd):\n",
        "    xNames = list(map(lambda x: x['desc'] , self.vars))\n",
        "    vars = var_bdd[xNames]\n",
        "    duree = var_bdd.shape[0]\n",
        "    res = np.zeros(duree)\n",
        "    for i in np.arange(0, duree):\n",
        "      res[i] = compute(self.formula, vars.iloc[i, :])\n",
        "    vars.insert(0, \"output\", res, True)\n",
        "    return vars\n",
        "\n",
        "\n",
        "# coef A + taux de référence + coefB\n",
        "\n",
        "class Rate_func:\n",
        "    def __init__(self, a, ref, b):\n",
        "        self.a = a\n",
        "        self.b = b\n",
        "        self.ref = ref\n",
        "    def __str__(self):\n",
        "      return f\"{self.a :.2%} * {self.ref.name} {self.b:+.2%}\"\n",
        "\n",
        "    def print(self):\n",
        "      return f\"{self}\"\n",
        "\n",
        "    def eval(self, var_bdd):\n",
        "      return self.a * self.ref.eval(var_bdd)['output'] + self.b\n",
        "\n",
        "\n",
        "\n",
        "# objectif de taux servis\n",
        "# target : une fonction de taux\n",
        "# floor1 : taux plancher 1 -> un des taux de référence\n",
        "# floor2 : taux plancher 2 -> propre au produit\n",
        "# cap1 : taux plafond 1 -> un des taux de référence\n",
        "# cap2 : taux plancher 2 -> propre au produit\n",
        "class OTS:\n",
        "    def __init__(self, target, floor1, floor2, cap1, cap2):\n",
        "        self.target = target\n",
        "        self.floor1 = floor1\n",
        "        self.floor2 = floor2\n",
        "        self.cap1 = cap1\n",
        "        self.cap2 = cap2\n",
        "\n",
        "    def print(self):\n",
        "      return {\n",
        "         'objectif': self.target.print(),\n",
        "         'plancher 1': self.floor1.print(),\n",
        "         'plancher 2': self.floor2.print(),\n",
        "         'plafond 1': self.cap1.print(),\n",
        "         'plafond 2': self.cap2.print()\n",
        "      }\n",
        "\n",
        "    def eval(self, var_bdd):\n",
        "      target = self.target.eval(var_bdd)\n",
        "      floor1 = self.floor1.eval(var_bdd)\n",
        "      floor2 = self.floor2.eval(var_bdd)\n",
        "      cap1 = self.cap1.eval(var_bdd)\n",
        "      cap2 = self.cap2.eval(var_bdd)\n",
        "      res = pd.DataFrame({'target': target, 'floor1': floor1, 'floor2': floor2, 'cap1': cap1, 'cap2': cap2})\n",
        "      floor = res[['floor1', 'floor2']].max(axis=1)\n",
        "      cap = res[['cap1', 'cap2']].min(axis=1)\n",
        "      res.insert(1, 'floor', floor, True)\n",
        "      res.insert(4, 'cap', cap, True)\n",
        "      res=res.drop(['floor1', 'floor2', 'cap1', 'cap2'], axis=1)\n",
        "      res['cap'] = res[['floor','cap']].max(axis=1)\n",
        "      return res\n",
        "\n"
      ],
      "metadata": {
        "id": "fFbbSwACDKMV"
      },
      "execution_count": null,
      "outputs": []
    },
    {
      "cell_type": "code",
      "source": [
        "x1 = {'op': 'decale', 'window': 0 , 'ref': 'taux long', 'desc': 'decale_0_taux_long'}\n",
        "x2 = {'op': 'decale', 'window': 1 , 'ref': 'taux court', 'desc': 'decale_1_taux_court' }\n",
        "x3 = {'op': 'moyenne', 'window': 8, 'ref': 'taux long', 'desc': 'moyenne_8_taux_long' }\n",
        "x4 = {'op': 'moyenne', 'window': 8, 'ref': 'spread A', 'desc': 'moyenne_8_spread_aa' }\n",
        "x5 = {'op': 'moyenne', 'window': 2, 'ref': 'perf act cotee hors div', 'desc': 'moyenne_2_perf_act_net'}\n",
        "x6 = {'op': 'decale', 'window': 0, 'ref': 'taux div act cotee', 'desc': 'decale_0_taux_div' }\n",
        "x7 = {'op': 'decale', 'window': 0, 'ref': 'perf imm yc loyer', 'desc': 'decale_0_perf_imm' }"
      ],
      "metadata": {
        "id": "cf2Oh1J4F0uU"
      },
      "execution_count": null,
      "outputs": []
    },
    {
      "cell_type": "code",
      "source": [
        "# BDD variables pour fonction de taux perso\n",
        "# il faut parcourir tous les taux ref définis et construire la BDD\n",
        "nbYears = 40\n",
        "xArray = [x1, x2, x3, x4, x5, x6, x7]\n",
        "xNames = list(map(lambda x: x['desc'] , xArray))\n",
        "proj = pd.DataFrame(index=base_eco.index, columns = xNames)\n",
        "\n",
        "for x in xArray:\n",
        "  proj[x['desc']] = eval_var_eco(x, base_eco)\n",
        "# pas besoin d'une projection par mois. uniquement en décembre de chaque anee\n",
        "var_bdd = proj.iloc[np.arange(11, nbYears*12+1, 12),:]\n",
        "first_histo_year = 2001\n",
        "# reset index to year only\n",
        "var_bdd = var_bdd.set_index(np.arange(0, var_bdd.shape[0])+first_histo_year)\n",
        "var_bdd\n"
      ],
      "metadata": {
        "id": "-5ryay6EOcW6"
      },
      "execution_count": null,
      "outputs": []
    },
    {
      "cell_type": "code",
      "source": [
        "var_bdd.plot().show()"
      ],
      "metadata": {
        "id": "TCCJBbCs5p78"
      },
      "execution_count": null,
      "outputs": []
    },
    {
      "cell_type": "markdown",
      "source": [
        "**customized rate funtions**"
      ],
      "metadata": {
        "id": "1SBtVmwJ1M5S"
      }
    },
    {
      "cell_type": "code",
      "source": [
        "# test\n",
        "TC = Taux_ref('taux_conc_net', [x1, x2, x3], \"max(min(x3, x1), x2+0.01)\")\n",
        "res = TC.eval(var_bdd.loc[2021:2025,:])\n",
        "objectif = Rate_func(1, TC, 0.05)\n",
        "plancher1 = Rate_func(0, TC, 0.05)\n",
        "plancher2 = Rate_func(0, TC, 0)\n",
        "ots_1 = OTS(objectif, plancher1, plancher1, plancher1, plancher1)\n",
        "res = ots_1.eval(var_bdd)"
      ],
      "metadata": {
        "id": "yzlC7Am53_pU"
      },
      "execution_count": null,
      "outputs": []
    },
    {
      "cell_type": "code",
      "source": [
        "def rachat_conj(alpha, beta, delta, rc_min, rc_max, ecart):\n",
        "  \"\"\"\n",
        "  if (alpha > -0.04) or (alpha <-0.06) :\n",
        "    raise Exception(\"alpha non compris entre -6% et -4%\")\n",
        "    return\n",
        "  if(beta > 0) or (beta < -0.02) :\n",
        "    raise Exception(\"beta non compris entre -2% et 0%\")\n",
        "    return\n",
        "  if(delta > 0.04) or (delta < 0.02) :\n",
        "    raise Exception(\"delta non compris entre 2% et 4%\")\n",
        "    return\n",
        "  if(rc_min > -0.04) or (rc_min < -0.06) :\n",
        "    raise Exception(\"Taux de RC min non compris entre -6% et -4%\")\n",
        "    return\n",
        "  if(rc_max > 0.4) or (rc_max < 0.2) :\n",
        "    raise Exception(\"Taux de RC max non compris entre 20% et 40%\")\n",
        "    return\n",
        "  \"\"\"\n",
        "\n",
        "  gamma = 0.01\n",
        "  if ecart < alpha:\n",
        "    return rc_max\n",
        "  elif ecart < beta:\n",
        "    return rc_max*(ecart-beta)/(alpha-beta)\n",
        "  elif ecart < gamma:\n",
        "    return 0\n",
        "  elif ecart < delta:\n",
        "    return rc_min*(ecart-gamma)/(delta-gamma)\n",
        "  else:\n",
        "    return rc_min"
      ],
      "metadata": {
        "id": "-9ARc2VceK7Z"
      },
      "execution_count": null,
      "outputs": []
    },
    {
      "cell_type": "code",
      "source": [
        "rachats_structurels = pd.read_excel('rachats_structurels.xlsx', header=0, index_col=0)\n",
        "rachat_onc_moyen = {}"
      ],
      "metadata": {
        "id": "5BTJKrqehTac"
      },
      "execution_count": null,
      "outputs": []
    },
    {
      "cell_type": "code",
      "source": [
        "# loi de rachat conjoncturel\n",
        "alpha, beta, gamma, delta, rc_min, rc_max = -0.05, -0.005, 0.01, 0.03, 0, 0.423"
      ],
      "metadata": {
        "id": "SP6A47qcIuTH"
      },
      "execution_count": null,
      "outputs": []
    },
    {
      "cell_type": "code",
      "source": [
        "\n",
        "# liste des lois de rachats tructurels\n",
        "liste_rachats_struc = [\n",
        "    {'name': 'Multéo', 'data': rachats_structurels},\n",
        "     {'name': 'Aviséo', 'data': rachats_structurels},\n",
        "]\n",
        "\n",
        "liste_rachats_conj = [\n",
        "    {'name': 'ONC moyen', 'alpha':alpha, 'beta': beta, 'gamma': gamma, 'delta': delta, 'min': rc_min, 'max': rc_max},\n",
        "    {'name': 'ONC min', 'alpha':alpha, 'beta': beta, 'gamma': gamma, 'delta': delta, 'min': rc_min, 'max': rc_max},\n",
        "    {'name': 'ONC max', 'alpha':alpha, 'beta': beta, 'gamma': gamma, 'delta': delta, 'min': rc_min, 'max': rc_max},\n",
        "]\n",
        "\n",
        "liste_taux_ref = [\n",
        "\n",
        "]"
      ],
      "metadata": {
        "id": "6nhFqoiugg3X"
      },
      "execution_count": null,
      "outputs": []
    },
    {
      "cell_type": "markdown",
      "metadata": {
        "id": "GJBs_flRovLc"
      },
      "source": [
        "\n",
        "\n",
        "## <strong>Classe</strong>\n",
        "\n",
        "Classe Epargne euro"
      ]
    },
    {
      "cell_type": "code",
      "execution_count": null,
      "metadata": {
        "id": "gJr_9dXGpJ05"
      },
      "outputs": [],
      "source": [
        "class Epargne_euro:\n",
        "  def __init__(self, name, stock, TMGA, PB_contractuelle, charg_com, table_morta, echeance, loi_rachat_struc, loi_rachat_conj, taux_conc):\n",
        "    self.name = name\n",
        "    self.stock = stock # une ligne par année de souscription (on en déduit date début et fin de souscription). colonne 1 : PM, colonne 2 : versement potentiel, colonne 3 : TMG moyen\n",
        "    self.tmga = TMGA\n",
        "    self.csg_opt = csg_opt # CSG ? (true/false)\n",
        "    self.pb_min_regl_option # inclus dans calcul PB min regl ? (true/false)\n",
        "    self.pb_contractuelle = PB_contractuelle # {'pdt_fi': 0, 'res_tech_pos': 0, 'res_tech_neg':0}\n",
        "    self.charg_com = charg_com # {'chgt_primes':0, 'comm_primes':0, 'chgt_encours':0, 'comm_encours':0, 'pen_rachat': 0 }\n",
        "    self.table_morta = table_morta # année de simu en ligne, année de souscription en colonne\n",
        "    self.echeance = echeance # comme rachat (ou décès, à voir...)\n",
        "    self.loi_rachat_struc = search(loi_rachat_struc, liste_rachats_struc) # nom de la loi\n",
        "    self.loi_rachat_conj = search(loi_rachat_conj, liste_rachats_conj) # nom de la loi. mapping à faire avec la liste des lois de rachats conjoncturels\n",
        "    self.taux_conc = search(taux_conc, liste_taux_ref) # nom du taux de référence. Mapping à faire avec la liste des taux de référence\n",
        "\n",
        "  def set_OTS(OTS):\n",
        "    # OTS défini dans la politique de résultats\n",
        "    self. = OTS.prov\n",
        "\n",
        "\n",
        "\n",
        "\n"
      ]
    },
    {
      "cell_type": "markdown",
      "source": [
        "##Tests"
      ],
      "metadata": {
        "id": "l9DUCAL0d6yj"
      }
    },
    {
      "cell_type": "code",
      "source": [
        "table_morta = pd.read_excel('table_morta.xlsx', header=0, index_col=0)\n",
        "stock = pd.read_excel('stock.xlsx', header=0, index_col=0)\n",
        "rachats_structurels = pd.read_excel('rachats_structurels.xlsx', header=0, index_col=0)\n",
        "echeances = pd.read_excel('echeances.xlsx', header=0, index_col=0)\n",
        "forcage_TS = pd.read_excel('forcage_TS.xlsx', header=0, index_col=0)\n",
        "frais_generaux = pd.read_excel('frais_generaux.xlsx', header=0, index_col=0)\n",
        "fiscalite = pd.read_excel('fiscalite.xlsx', header=0, index_col=0)\n",
        "rachats_structurels = pd.read_excel('rachats_structurels.xlsx', header=0, index_col=0)\n",
        "\n",
        "\n",
        "tmg = PM['TMG moyen/stock']\n",
        "TS = forcage_TS.rename(columns={\"forçage taux provisoire\": \"provisoire\", \"forçage taux définitif\": \"definitif\"})\n",
        "tx_chgt_primes = 0.0028\n",
        "tx_comm_primes = 0.001\n",
        "tx_chgt_encours = 0.0075\n",
        "tx_comm_encours = 0.0015\n",
        "tx_pen_rachat = 0.005\n",
        "tx_CSG = fiscalite['Taux CSG/CRDS']\n"
      ],
      "metadata": {
        "id": "uXrd52BaNUQ7"
      },
      "execution_count": null,
      "outputs": []
    },
    {
      "cell_type": "code",
      "source": [
        "chgt_comm = {'chgt_primes': 0.0074 , 'comm_primes': 0, 'chgt_encours': 0.0048, 'comm_encours': 0, 'pen_rachats':0}"
      ],
      "metadata": {
        "id": "UMrkTPWOPVbQ"
      },
      "execution_count": null,
      "outputs": []
    },
    {
      "cell_type": "code",
      "source": [
        "name = 'Multéo'\n",
        "cat = 'compte epargne'\n",
        "csg_opt = True\n",
        "pb_min_regl_opt = True\n",
        "TMGA = 0.02\n",
        "PB_contractuelle = {'pdt_fi': 0,  'res_tech_pos': 0, 'res_tech_neg':0}\n",
        "chgt_comm = {'chgt_primes': 0.0074 , 'comm_primes': 0, 'chgt_encours': 0.0048, 'comm_encours': 0, 'pen_rachats':0}\n",
        "stock = pd.read_excel('stock.xlsx', header=0, index_col=0) # stock.index (annees de souscription) stock.pm, stock.vers_potentiels, stock.tmg\n",
        "\n",
        "\n",
        "\n",
        "TMG = 0.01\n",
        "\n",
        "table_morta = 0\n",
        "echeance = 0\n",
        "loi_rachat_struc = 0\n",
        "loi_rachat_conj = 0\n",
        "taux_conc = 0\n",
        "taux_ref_prov = 0.01\n",
        "taux_provisoire = taux_prov\n",
        "taux_cible = 'test taux cible'\n",
        "\n",
        "Multeo = Epargne_euro('Multéo', stock, TMGA, PB_contractuelle, charg_com, TMG, table_morta, echeance, loi_rachat_struc, loi_rachat_conj, taux_conc, taux_provisoire, taux_cible )\n",
        "res = Multeo.taux_provisoire.eval('31/01/2022')\n",
        "res\n",
        "\n",
        "\n"
      ],
      "metadata": {
        "id": "z_ERudPhg5qI"
      },
      "execution_count": null,
      "outputs": []
    },
    {
      "cell_type": "code",
      "source": [
        "fig = px.line(rachats_structurels, title='taux de rachat par ancienneté')\n",
        "fig.show()"
      ],
      "metadata": {
        "id": "Jeu8Vfuwxub6"
      },
      "execution_count": null,
      "outputs": []
    },
    {
      "cell_type": "code",
      "source": [
        "fig = go.Figure(data=[go.Surface(z=table_morta.iloc[0:100], y=table_morta.index, x =table_morta.columns)])\n",
        "\n",
        "fig.update_layout(title='table de mortalité', autosize=False,\n",
        "                  width=500, height=500,\n",
        "                  margin=dict(l=65, r=50, b=65, t=90))\n",
        "\n",
        "fig.show()"
      ],
      "metadata": {
        "id": "vcK6_y2PP5Dr"
      },
      "execution_count": null,
      "outputs": []
    },
    {
      "cell_type": "code",
      "source": [
        "fig = px.line(table_morta.loc[2040], title='mortalité par année de souscription')\n",
        "fig.show()"
      ],
      "metadata": {
        "id": "NTq7RaSwZNKK"
      },
      "execution_count": null,
      "outputs": []
    },
    {
      "cell_type": "code",
      "source": [
        "fig = px.line(table_morta.loc[:, 1985], title='contrats souscrits en 1085 - mortalité par année de projection')\n",
        "fig.show()"
      ],
      "metadata": {
        "id": "Pp9SflxZb7NV"
      },
      "execution_count": null,
      "outputs": []
    },
    {
      "cell_type": "code",
      "source": [
        "fig = go.Figure(data=[go.Surface(z=echeances.iloc[0:100], y=echeances.index, x =echeances.columns)])\n",
        "\n",
        "fig.update_layout(title=\"taux d'échéance\", autosize=False,\n",
        "                  width=500, height=500,\n",
        "                  margin=dict(l=65, r=50, b=65, t=90))\n",
        "\n",
        "fig.show()"
      ],
      "metadata": {
        "id": "iUgpL_s-EGKf"
      },
      "execution_count": null,
      "outputs": []
    }
  ],
  "metadata": {
    "colab": {
      "name": "Bienvenue dans Colaboratory",
      "provenance": [],
      "include_colab_link": true
    },
    "kernelspec": {
      "display_name": "Python 3",
      "name": "python3"
    }
  },
  "nbformat": 4,
  "nbformat_minor": 0
}